
def initialize_model():
    model = models.Sequential()
    model.add(layers.Convolution2D(32, (5, 5),
                            padding='same',
                            input_shape=X_train.shape[1:], activation='relu'))
    model.add(layers.MaxPooling2D(pool_size=(2, 2)))
    model.add(layers.Convolution2D(64, (5, 5), padding='same', activation= 'relu'))
    model.add(layers.MaxPooling2D(pool_size=(2, 2)))
    #model.add(layers.Convolution2D(128, (5, 5), padding='same', activation= 'relu'))
    #model.add(layers.MaxPooling2D(pool_size =(2,2)))
    model.add(layers.Flatten())
    model.add(layers.Dense(1024, activation='relu'))
    model.add(layers.Dense(num_labels, activation='softmax')) 
    # Train model
    model.compile(loss='categorical_crossentropy',
                optimizer='adam',
                metrics=['top_k_categorical_accuracy'])
    return model