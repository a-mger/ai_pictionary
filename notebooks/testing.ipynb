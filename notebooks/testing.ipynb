{
 "metadata": {
  "language_info": {
   "codemirror_mode": {
    "name": "ipython",
    "version": 3
   },
   "file_extension": ".py",
   "mimetype": "text/x-python",
   "name": "python",
   "nbconvert_exporter": "python",
   "pygments_lexer": "ipython3",
   "version": "3.8.6"
  },
  "orig_nbformat": 2,
  "kernelspec": {
   "name": "python386jvsc74a57bd09cd1032da00104eb9e518d9588f7547d6e9370ea5de9e6cbf3b202eeac076a1f",
   "display_name": "Python 3.8.6 64-bit ('shims': pyenv)"
  }
 },
 "nbformat": 4,
 "nbformat_minor": 2,
 "cells": [
  {
   "cell_type": "code",
   "execution_count": 1,
   "metadata": {},
   "outputs": [],
   "source": [
    "import numpy as np\n",
    "import pandas as pd"
   ]
  },
  {
   "cell_type": "code",
   "execution_count": 2,
   "metadata": {},
   "outputs": [
    {
     "output_type": "execute_result",
     "data": {
      "text/plain": [
       "(132826, 784)"
      ]
     },
     "metadata": {},
     "execution_count": 2
    }
   ],
   "source": [
    "#to load in the npy file as a numpy array\n",
    "data_broccoli = np.load('../raw_data/broccoli.npy')\n",
    "\n",
    "#checking shape of data\n",
    "data_broccoli.shape"
   ]
  },
  {
   "cell_type": "code",
   "execution_count": 23,
   "metadata": {},
   "outputs": [
    {
     "output_type": "execute_result",
     "data": {
      "text/plain": [
       "'alarmclock'"
      ]
     },
     "metadata": {},
     "execution_count": 23
    }
   ],
   "source": [
    "class_name = os.path.splitext(filenames[0])[0]\n",
    "class_name"
   ]
  },
  {
   "cell_type": "code",
   "execution_count": 3,
   "metadata": {},
   "outputs": [],
   "source": [
    "#making list of filenames to load locally\n",
    "\n",
    "filenames = [\"alarmclock.npy\", \"bicycle.npy\", \"boomerang.npy\", \"bread.npy\", \"broccoli.npy\", \"lantern.npy\", \"lightning.npy\", \"streetlight.npy\", \"tennis racquet.npy\", \"tractor.npy\"]"
   ]
  },
  {
   "cell_type": "code",
   "execution_count": 25,
   "metadata": {},
   "outputs": [],
   "source": [
    "#creating X, y and index to use for the loop and a label_names for making a list to check the y-label\n",
    "X = np.empty([0, 784])\n",
    "y = np.empty([0])\n",
    "index = 0\n",
    "label_names = []\n",
    "\n",
    "#setting a max per class to retrieve from npy file, we taking 5000 subjects per label for training\n",
    "max_items_per_class = 5000"
   ]
  },
  {
   "cell_type": "code",
   "execution_count": 26,
   "metadata": {},
   "outputs": [],
   "source": [
    "#loading data from the npy files. taking 5000 per label and creating a (y)target using the index starting from 1.\n",
    "import os\n",
    "\n",
    "for fname in filenames:\n",
    "    label_name = os.path.splitext(fname)[0]\n",
    "    label_names.append(label_name) if label_name not in label_names else label_names\n",
    "    data = np.load('../raw_data/' + fname)\n",
    "    data = data[0: max_items_per_class, :]\n",
    "    label = np.full(data.shape[0], index)\n",
    "    y = np.append(y, label)\n",
    "    X = np.concatenate((X, data), axis=0)\n",
    "    index += 1"
   ]
  },
  {
   "cell_type": "code",
   "execution_count": 27,
   "metadata": {},
   "outputs": [
    {
     "output_type": "execute_result",
     "data": {
      "text/plain": [
       "['alarmclock',\n",
       " 'bicycle',\n",
       " 'boomerang',\n",
       " 'bread',\n",
       " 'broccoli',\n",
       " 'lantern',\n",
       " 'lightning',\n",
       " 'streetlight',\n",
       " 'tennis racquet',\n",
       " 'tractor']"
      ]
     },
     "metadata": {},
     "execution_count": 27
    }
   ],
   "source": [
    "#printing label names \n",
    "label_names"
   ]
  },
  {
   "cell_type": "code",
   "execution_count": 6,
   "metadata": {},
   "outputs": [
    {
     "output_type": "execute_result",
     "data": {
      "text/plain": [
       "(50000, 784)"
      ]
     },
     "metadata": {},
     "execution_count": 6
    }
   ],
   "source": [
    "#checking shape of the X after looping the filenames\n",
    "X.shape"
   ]
  },
  {
   "cell_type": "code",
   "execution_count": 7,
   "metadata": {},
   "outputs": [
    {
     "output_type": "execute_result",
     "data": {
      "text/plain": [
       "(50000, 28, 28)"
      ]
     },
     "metadata": {},
     "execution_count": 7
    }
   ],
   "source": [
    "#reshaping to (28,28)\n",
    "\n",
    "X = X.reshape(50000,28,28)\n",
    "X.shape"
   ]
  },
  {
   "cell_type": "code",
   "execution_count": 8,
   "metadata": {},
   "outputs": [],
   "source": [
    "import numpy as np\n",
    "from sklearn.model_selection import train_test_split"
   ]
  },
  {
   "cell_type": "code",
   "execution_count": 9,
   "metadata": {},
   "outputs": [],
   "source": [
    "#making test and training set with train test split\n",
    "\n",
    "X_train, X_test, y_train, y_test = train_test_split(X, y, test_size=0.20, random_state=42)"
   ]
  },
  {
   "cell_type": "code",
   "execution_count": 11,
   "metadata": {},
   "outputs": [
    {
     "output_type": "execute_result",
     "data": {
      "text/plain": [
       "(40000, 28, 28)"
      ]
     },
     "metadata": {},
     "execution_count": 11
    }
   ],
   "source": [
    "X_train.shape"
   ]
  },
  {
   "cell_type": "code",
   "execution_count": 17,
   "metadata": {},
   "outputs": [
    {
     "output_type": "execute_result",
     "data": {
      "text/plain": [
       "5.0"
      ]
     },
     "metadata": {},
     "execution_count": 17
    }
   ],
   "source": [
    "y_train[6]"
   ]
  },
  {
   "cell_type": "code",
   "execution_count": 16,
   "metadata": {},
   "outputs": [
    {
     "output_type": "execute_result",
     "data": {
      "text/plain": [
       "<matplotlib.image.AxesImage at 0x124a83580>"
      ]
     },
     "metadata": {},
     "execution_count": 16
    },
    {
     "output_type": "display_data",
     "data": {
      "text/plain": "<Figure size 432x288 with 1 Axes>",
      "image/svg+xml": "<?xml version=\"1.0\" encoding=\"utf-8\" standalone=\"no\"?>\n<!DOCTYPE svg PUBLIC \"-//W3C//DTD SVG 1.1//EN\"\n  \"http://www.w3.org/Graphics/SVG/1.1/DTD/svg11.dtd\">\n<svg height=\"248.518125pt\" version=\"1.1\" viewBox=\"0 0 251.565 248.518125\" width=\"251.565pt\" xmlns=\"http://www.w3.org/2000/svg\" xmlns:xlink=\"http://www.w3.org/1999/xlink\">\n <metadata>\n  <rdf:RDF xmlns:cc=\"http://creativecommons.org/ns#\" xmlns:dc=\"http://purl.org/dc/elements/1.1/\" xmlns:rdf=\"http://www.w3.org/1999/02/22-rdf-syntax-ns#\">\n   <cc:Work>\n    <dc:type rdf:resource=\"http://purl.org/dc/dcmitype/StillImage\"/>\n    <dc:date>2021-06-07T15:16:14.506491</dc:date>\n    <dc:format>image/svg+xml</dc:format>\n    <dc:creator>\n     <cc:Agent>\n      <dc:title>Matplotlib v3.4.1, https://matplotlib.org/</dc:title>\n     </cc:Agent>\n    </dc:creator>\n   </cc:Work>\n  </rdf:RDF>\n </metadata>\n <defs>\n  <style type=\"text/css\">*{stroke-linecap:butt;stroke-linejoin:round;}</style>\n </defs>\n <g id=\"figure_1\">\n  <g id=\"patch_1\">\n   <path d=\"M 0 248.518125 \nL 251.565 248.518125 \nL 251.565 0 \nL 0 0 \nz\n\" style=\"fill:none;\"/>\n  </g>\n  <g id=\"axes_1\">\n   <g id=\"patch_2\">\n    <path d=\"M 26.925 224.64 \nL 244.365 224.64 \nL 244.365 7.2 \nL 26.925 7.2 \nz\n\" style=\"fill:#ffffff;\"/>\n   </g>\n   <g clip-path=\"url(#p9c50e3316b)\">\n    <image height=\"218\" id=\"image10572a0db5\" transform=\"scale(1 -1)translate(0 -218)\" width=\"218\" x=\"26.925\" xlink:href=\"data:image/png;base64,\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\" y=\"-6.64\"/>\n   </g>\n   <g id=\"matplotlib.axis_1\">\n    <g id=\"xtick_1\">\n     <g id=\"line2d_1\">\n      <defs>\n       <path d=\"M 0 0 \nL 0 3.5 \n\" id=\"mf05d725313\" style=\"stroke:#000000;stroke-width:0.8;\"/>\n      </defs>\n      <g>\n       <use style=\"stroke:#000000;stroke-width:0.8;\" x=\"30.807857\" xlink:href=\"#mf05d725313\" y=\"224.64\"/>\n      </g>\n     </g>\n     <g id=\"text_1\">\n      <!-- 0 -->\n      <g transform=\"translate(27.626607 239.238437)scale(0.1 -0.1)\">\n       <defs>\n        <path d=\"M 2034 4250 \nQ 1547 4250 1301 3770 \nQ 1056 3291 1056 2328 \nQ 1056 1369 1301 889 \nQ 1547 409 2034 409 \nQ 2525 409 2770 889 \nQ 3016 1369 3016 2328 \nQ 3016 3291 2770 3770 \nQ 2525 4250 2034 4250 \nz\nM 2034 4750 \nQ 2819 4750 3233 4129 \nQ 3647 3509 3647 2328 \nQ 3647 1150 3233 529 \nQ 2819 -91 2034 -91 \nQ 1250 -91 836 529 \nQ 422 1150 422 2328 \nQ 422 3509 836 4129 \nQ 1250 4750 2034 4750 \nz\n\" id=\"DejaVuSans-30\" transform=\"scale(0.015625)\"/>\n       </defs>\n       <use xlink:href=\"#DejaVuSans-30\"/>\n      </g>\n     </g>\n    </g>\n    <g id=\"xtick_2\">\n     <g id=\"line2d_2\">\n      <g>\n       <use style=\"stroke:#000000;stroke-width:0.8;\" x=\"69.636429\" xlink:href=\"#mf05d725313\" y=\"224.64\"/>\n      </g>\n     </g>\n     <g id=\"text_2\">\n      <!-- 5 -->\n      <g transform=\"translate(66.455179 239.238437)scale(0.1 -0.1)\">\n       <defs>\n        <path d=\"M 691 4666 \nL 3169 4666 \nL 3169 4134 \nL 1269 4134 \nL 1269 2991 \nQ 1406 3038 1543 3061 \nQ 1681 3084 1819 3084 \nQ 2600 3084 3056 2656 \nQ 3513 2228 3513 1497 \nQ 3513 744 3044 326 \nQ 2575 -91 1722 -91 \nQ 1428 -91 1123 -41 \nQ 819 9 494 109 \nL 494 744 \nQ 775 591 1075 516 \nQ 1375 441 1709 441 \nQ 2250 441 2565 725 \nQ 2881 1009 2881 1497 \nQ 2881 1984 2565 2268 \nQ 2250 2553 1709 2553 \nQ 1456 2553 1204 2497 \nQ 953 2441 691 2322 \nL 691 4666 \nz\n\" id=\"DejaVuSans-35\" transform=\"scale(0.015625)\"/>\n       </defs>\n       <use xlink:href=\"#DejaVuSans-35\"/>\n      </g>\n     </g>\n    </g>\n    <g id=\"xtick_3\">\n     <g id=\"line2d_3\">\n      <g>\n       <use style=\"stroke:#000000;stroke-width:0.8;\" x=\"108.465\" xlink:href=\"#mf05d725313\" y=\"224.64\"/>\n      </g>\n     </g>\n     <g id=\"text_3\">\n      <!-- 10 -->\n      <g transform=\"translate(102.1025 239.238437)scale(0.1 -0.1)\">\n       <defs>\n        <path d=\"M 794 531 \nL 1825 531 \nL 1825 4091 \nL 703 3866 \nL 703 4441 \nL 1819 4666 \nL 2450 4666 \nL 2450 531 \nL 3481 531 \nL 3481 0 \nL 794 0 \nL 794 531 \nz\n\" id=\"DejaVuSans-31\" transform=\"scale(0.015625)\"/>\n       </defs>\n       <use xlink:href=\"#DejaVuSans-31\"/>\n       <use x=\"63.623047\" xlink:href=\"#DejaVuSans-30\"/>\n      </g>\n     </g>\n    </g>\n    <g id=\"xtick_4\">\n     <g id=\"line2d_4\">\n      <g>\n       <use style=\"stroke:#000000;stroke-width:0.8;\" x=\"147.293571\" xlink:href=\"#mf05d725313\" y=\"224.64\"/>\n      </g>\n     </g>\n     <g id=\"text_4\">\n      <!-- 15 -->\n      <g transform=\"translate(140.931071 239.238437)scale(0.1 -0.1)\">\n       <use xlink:href=\"#DejaVuSans-31\"/>\n       <use x=\"63.623047\" xlink:href=\"#DejaVuSans-35\"/>\n      </g>\n     </g>\n    </g>\n    <g id=\"xtick_5\">\n     <g id=\"line2d_5\">\n      <g>\n       <use style=\"stroke:#000000;stroke-width:0.8;\" x=\"186.122143\" xlink:href=\"#mf05d725313\" y=\"224.64\"/>\n      </g>\n     </g>\n     <g id=\"text_5\">\n      <!-- 20 -->\n      <g transform=\"translate(179.759643 239.238437)scale(0.1 -0.1)\">\n       <defs>\n        <path d=\"M 1228 531 \nL 3431 531 \nL 3431 0 \nL 469 0 \nL 469 531 \nQ 828 903 1448 1529 \nQ 2069 2156 2228 2338 \nQ 2531 2678 2651 2914 \nQ 2772 3150 2772 3378 \nQ 2772 3750 2511 3984 \nQ 2250 4219 1831 4219 \nQ 1534 4219 1204 4116 \nQ 875 4013 500 3803 \nL 500 4441 \nQ 881 4594 1212 4672 \nQ 1544 4750 1819 4750 \nQ 2544 4750 2975 4387 \nQ 3406 4025 3406 3419 \nQ 3406 3131 3298 2873 \nQ 3191 2616 2906 2266 \nQ 2828 2175 2409 1742 \nQ 1991 1309 1228 531 \nz\n\" id=\"DejaVuSans-32\" transform=\"scale(0.015625)\"/>\n       </defs>\n       <use xlink:href=\"#DejaVuSans-32\"/>\n       <use x=\"63.623047\" xlink:href=\"#DejaVuSans-30\"/>\n      </g>\n     </g>\n    </g>\n    <g id=\"xtick_6\">\n     <g id=\"line2d_6\">\n      <g>\n       <use style=\"stroke:#000000;stroke-width:0.8;\" x=\"224.950714\" xlink:href=\"#mf05d725313\" y=\"224.64\"/>\n      </g>\n     </g>\n     <g id=\"text_6\">\n      <!-- 25 -->\n      <g transform=\"translate(218.588214 239.238437)scale(0.1 -0.1)\">\n       <use xlink:href=\"#DejaVuSans-32\"/>\n       <use x=\"63.623047\" xlink:href=\"#DejaVuSans-35\"/>\n      </g>\n     </g>\n    </g>\n   </g>\n   <g id=\"matplotlib.axis_2\">\n    <g id=\"ytick_1\">\n     <g id=\"line2d_7\">\n      <defs>\n       <path d=\"M 0 0 \nL -3.5 0 \n\" id=\"ma4e9cd18fd\" style=\"stroke:#000000;stroke-width:0.8;\"/>\n      </defs>\n      <g>\n       <use style=\"stroke:#000000;stroke-width:0.8;\" x=\"26.925\" xlink:href=\"#ma4e9cd18fd\" y=\"11.082857\"/>\n      </g>\n     </g>\n     <g id=\"text_7\">\n      <!-- 0 -->\n      <g transform=\"translate(13.5625 14.882076)scale(0.1 -0.1)\">\n       <use xlink:href=\"#DejaVuSans-30\"/>\n      </g>\n     </g>\n    </g>\n    <g id=\"ytick_2\">\n     <g id=\"line2d_8\">\n      <g>\n       <use style=\"stroke:#000000;stroke-width:0.8;\" x=\"26.925\" xlink:href=\"#ma4e9cd18fd\" y=\"49.911429\"/>\n      </g>\n     </g>\n     <g id=\"text_8\">\n      <!-- 5 -->\n      <g transform=\"translate(13.5625 53.710647)scale(0.1 -0.1)\">\n       <use xlink:href=\"#DejaVuSans-35\"/>\n      </g>\n     </g>\n    </g>\n    <g id=\"ytick_3\">\n     <g id=\"line2d_9\">\n      <g>\n       <use style=\"stroke:#000000;stroke-width:0.8;\" x=\"26.925\" xlink:href=\"#ma4e9cd18fd\" y=\"88.74\"/>\n      </g>\n     </g>\n     <g id=\"text_9\">\n      <!-- 10 -->\n      <g transform=\"translate(7.2 92.539219)scale(0.1 -0.1)\">\n       <use xlink:href=\"#DejaVuSans-31\"/>\n       <use x=\"63.623047\" xlink:href=\"#DejaVuSans-30\"/>\n      </g>\n     </g>\n    </g>\n    <g id=\"ytick_4\">\n     <g id=\"line2d_10\">\n      <g>\n       <use style=\"stroke:#000000;stroke-width:0.8;\" x=\"26.925\" xlink:href=\"#ma4e9cd18fd\" y=\"127.568571\"/>\n      </g>\n     </g>\n     <g id=\"text_10\">\n      <!-- 15 -->\n      <g transform=\"translate(7.2 131.36779)scale(0.1 -0.1)\">\n       <use xlink:href=\"#DejaVuSans-31\"/>\n       <use x=\"63.623047\" xlink:href=\"#DejaVuSans-35\"/>\n      </g>\n     </g>\n    </g>\n    <g id=\"ytick_5\">\n     <g id=\"line2d_11\">\n      <g>\n       <use style=\"stroke:#000000;stroke-width:0.8;\" x=\"26.925\" xlink:href=\"#ma4e9cd18fd\" y=\"166.397143\"/>\n      </g>\n     </g>\n     <g id=\"text_11\">\n      <!-- 20 -->\n      <g transform=\"translate(7.2 170.196362)scale(0.1 -0.1)\">\n       <use xlink:href=\"#DejaVuSans-32\"/>\n       <use x=\"63.623047\" xlink:href=\"#DejaVuSans-30\"/>\n      </g>\n     </g>\n    </g>\n    <g id=\"ytick_6\">\n     <g id=\"line2d_12\">\n      <g>\n       <use style=\"stroke:#000000;stroke-width:0.8;\" x=\"26.925\" xlink:href=\"#ma4e9cd18fd\" y=\"205.225714\"/>\n      </g>\n     </g>\n     <g id=\"text_12\">\n      <!-- 25 -->\n      <g transform=\"translate(7.2 209.024933)scale(0.1 -0.1)\">\n       <use xlink:href=\"#DejaVuSans-32\"/>\n       <use x=\"63.623047\" xlink:href=\"#DejaVuSans-35\"/>\n      </g>\n     </g>\n    </g>\n   </g>\n   <g id=\"patch_3\">\n    <path d=\"M 26.925 224.64 \nL 26.925 7.2 \n\" style=\"fill:none;stroke:#000000;stroke-linecap:square;stroke-linejoin:miter;stroke-width:0.8;\"/>\n   </g>\n   <g id=\"patch_4\">\n    <path d=\"M 244.365 224.64 \nL 244.365 7.2 \n\" style=\"fill:none;stroke:#000000;stroke-linecap:square;stroke-linejoin:miter;stroke-width:0.8;\"/>\n   </g>\n   <g id=\"patch_5\">\n    <path d=\"M 26.925 224.64 \nL 244.365 224.64 \n\" style=\"fill:none;stroke:#000000;stroke-linecap:square;stroke-linejoin:miter;stroke-width:0.8;\"/>\n   </g>\n   <g id=\"patch_6\">\n    <path d=\"M 26.925 7.2 \nL 244.365 7.2 \n\" style=\"fill:none;stroke:#000000;stroke-linecap:square;stroke-linejoin:miter;stroke-width:0.8;\"/>\n   </g>\n  </g>\n </g>\n <defs>\n  <clipPath id=\"p9c50e3316b\">\n   <rect height=\"217.44\" width=\"217.44\" x=\"26.925\" y=\"7.2\"/>\n  </clipPath>\n </defs>\n</svg>\n",
      "image/png": "[encoded data removed]"
     },
     "metadata": {
      "needs_background": "light"
     }
    }
   ],
   "source": [
    "import matplotlib.pyplot as plt\n",
    "from random import randint\n",
    "%matplotlib inline\n",
    "plt.imshow(X_train[6], cmap='gray') "
   ]
  },
  {
   "cell_type": "code",
   "execution_count": null,
   "metadata": {},
   "outputs": [],
   "source": []
  }
 ]
}