{
 "metadata": {
  "language_info": {
   "codemirror_mode": {
    "name": "ipython",
    "version": 3
   },
   "file_extension": ".py",
   "mimetype": "text/x-python",
   "name": "python",
   "nbconvert_exporter": "python",
   "pygments_lexer": "ipython3",
   "version": "3.8.6"
  },
  "orig_nbformat": 2,
  "kernelspec": {
   "name": "python386jvsc74a57bd09cd1032da00104eb9e518d9588f7547d6e9370ea5de9e6cbf3b202eeac076a1f",
   "display_name": "Python 3.8.6 64-bit ('shims': pyenv)"
  }
 },
 "nbformat": 4,
 "nbformat_minor": 2,
 "cells": [
  {
   "cell_type": "code",
   "execution_count": 112,
   "metadata": {},
   "outputs": [],
   "source": [
    "import numpy as np\n",
    "import pandas as pd"
   ]
  },
  {
   "cell_type": "code",
   "execution_count": 113,
   "metadata": {},
   "outputs": [
    {
     "output_type": "execute_result",
     "data": {
      "text/plain": [
       "(132826, 784)"
      ]
     },
     "metadata": {},
     "execution_count": 113
    }
   ],
   "source": [
    "#to load in the npy file as a numpy array\n",
    "data_broccoli = np.load('../raw_data/broccoli.npy')\n",
    "\n",
    "#checking shape of data\n",
    "data_broccoli.shape"
   ]
  },
  {
   "cell_type": "code",
   "execution_count": 114,
   "metadata": {},
   "outputs": [],
   "source": [
    "#making list of filenames to load locally\n",
    "\n",
    "filenames = [\"alarmclock.npy\", \"bicycle.npy\", \"boomerang.npy\", \"bread.npy\", \"broccoli.npy\", \"full_numpy_bitmap_banana.npy\", \"full_numpy_bitmap_baseball.npy\",\"full_numpy_bitmap_basketball.npy\",\"full_numpy_bitmap_birthday cake.npy\",\"full_numpy_bitmap_bracelet.npy\",\"full_numpy_bitmap_cookie.npy\",\"full_numpy_bitmap_hat.npy\",\"full_numpy_bitmap_lollipop.npy\",\"full_numpy_bitmap_moon.npy\",\"full_numpy_bitmap_pizza.npy\",\"full_numpy_bitmap_spoon.npy\",\"full_numpy_bitmap_sun.npy\",\"full_numpy_bitmap_umbrella.npy\",\"full_numpy_bitmap_wheel.npy\", \"lantern.npy\", \"lightning.npy\", \"streetlight.npy\", \"tennis racquet.npy\", \"tractor.npy\"]"
   ]
  },
  {
   "cell_type": "code",
   "execution_count": null,
   "metadata": {},
   "outputs": [],
   "source": [
    "#label names in list \n",
    "\n",
    "url = 'https://raw.githubusercontent.com/googlecreativelab/quickdraw-dataset/master/categories.txt'\n",
    "data = urlopen(url)\n",
    "labels = [line.decode(\"utf-8\").strip() for line in data]"
   ]
  },
  {
   "cell_type": "code",
   "execution_count": 115,
   "metadata": {},
   "outputs": [
    {
     "output_type": "execute_result",
     "data": {
      "text/plain": [
       "'banana.npy'"
      ]
     },
     "metadata": {},
     "execution_count": 115
    }
   ],
   "source": [
    "str = \"full_numpy_bitmap_banana.npy\"\n",
    "str.replace(\"full_numpy_bitmap_\", \"\")"
   ]
  },
  {
   "cell_type": "code",
   "execution_count": 116,
   "metadata": {},
   "outputs": [
    {
     "output_type": "execute_result",
     "data": {
      "text/plain": [
       "'alarmclock'"
      ]
     },
     "metadata": {},
     "execution_count": 116
    }
   ],
   "source": [
    "class_name = os.path.splitext(filenames[0])[0]\n",
    "class_name"
   ]
  },
  {
   "cell_type": "code",
   "execution_count": 6,
   "metadata": {},
   "outputs": [],
   "source": []
  },
  {
   "cell_type": "code",
   "execution_count": 117,
   "metadata": {},
   "outputs": [
    {
     "output_type": "stream",
     "name": "stdout",
     "text": [
      "alarmclock\n",
      "bicycle\n",
      "boomerang\n",
      "bread\n",
      "broccoli\n",
      "banana\n",
      "baseball\n",
      "basketball\n",
      "birthday cake\n",
      "bracelet\n",
      "cookie\n",
      "hat\n",
      "lollipop\n",
      "moon\n",
      "pizza\n",
      "spoon\n",
      "sun\n",
      "umbrella\n",
      "wheel\n",
      "lantern\n",
      "lightning\n",
      "streetlight\n",
      "tennis racquet\n",
      "tractor\n"
     ]
    }
   ],
   "source": [
    "import os\n",
    "\n",
    "#creating X, y and index to use for the loop and a label_names for making a list to check the y-label\n",
    "X = np.empty([0, 784])\n",
    "y = np.empty([0])\n",
    "index = 0\n",
    "label_names = []\n",
    "\n",
    "#setting a max per class to retrieve from npy file, we taking 5000 subjects per label for training\n",
    "max_items_per_class = 20000\n",
    "\n",
    "#loading data from the npy files. taking 5000 per label and creating a (y)target using the index starting from 1.\n",
    "\n",
    "for fname in filenames:\n",
    "    label_name = fname\n",
    "    label_name = os.path.splitext(label_name)[0]\n",
    "    label_name = label_name.replace(\"full_numpy_bitmap_\", \"\")\n",
    "    label_names.append(label_name) if label_name not in label_names else label_names\n",
    "    data = np.load('../raw_data/' + fname)\n",
    "    data = data[0: max_items_per_class, :]\n",
    "    label = np.full(data.shape[0], index)\n",
    "    y = np.append(y, label)\n",
    "    X = np.concatenate((X, data), axis=0)\n",
    "    index += 1"
   ]
  },
  {
   "cell_type": "code",
   "execution_count": 118,
   "metadata": {},
   "outputs": [
    {
     "output_type": "execute_result",
     "data": {
      "text/plain": [
       "['alarmclock',\n",
       " 'bicycle',\n",
       " 'boomerang',\n",
       " 'bread',\n",
       " 'broccoli',\n",
       " 'banana',\n",
       " 'baseball',\n",
       " 'basketball',\n",
       " 'birthday cake',\n",
       " 'bracelet',\n",
       " 'cookie',\n",
       " 'hat',\n",
       " 'lollipop',\n",
       " 'moon',\n",
       " 'pizza',\n",
       " 'spoon',\n",
       " 'sun',\n",
       " 'umbrella',\n",
       " 'wheel',\n",
       " 'lantern',\n",
       " 'lightning',\n",
       " 'streetlight',\n",
       " 'tennis racquet',\n",
       " 'tractor']"
      ]
     },
     "metadata": {},
     "execution_count": 118
    }
   ],
   "source": [
    "#printing label names \n",
    "label_names"
   ]
  },
  {
   "cell_type": "code",
   "execution_count": 119,
   "metadata": {},
   "outputs": [
    {
     "output_type": "execute_result",
     "data": {
      "text/plain": [
       "(480000, 784)"
      ]
     },
     "metadata": {},
     "execution_count": 119
    }
   ],
   "source": [
    "#checking shape of the X after looping the filenames\n",
    "X.shape"
   ]
  },
  {
   "cell_type": "code",
   "execution_count": 120,
   "metadata": {},
   "outputs": [
    {
     "output_type": "execute_result",
     "data": {
      "text/plain": [
       "(480000, 28, 28)"
      ]
     },
     "metadata": {},
     "execution_count": 120
    }
   ],
   "source": [
    "#reshaping to (28,28)\n",
    "\n",
    "X = X.reshape(len(X),28,28)\n",
    "X.shape"
   ]
  },
  {
   "cell_type": "code",
   "execution_count": 121,
   "metadata": {},
   "outputs": [],
   "source": [
    "import numpy as np\n",
    "from sklearn.model_selection import train_test_split"
   ]
  },
  {
   "cell_type": "code",
   "execution_count": 122,
   "metadata": {},
   "outputs": [],
   "source": [
    "#making test and training set with train test split\n",
    "\n",
    "X_train, X_test, y_train, y_test = train_test_split(X, y, test_size=0.20, random_state=42)"
   ]
  },
  {
   "cell_type": "code",
   "execution_count": 125,
   "metadata": {},
   "outputs": [
    {
     "output_type": "execute_result",
     "data": {
      "text/plain": [
       "<matplotlib.image.AxesImage at 0x146ab15e0>"
      ]
     },
     "metadata": {},
     "execution_count": 125
    },
    {
     "output_type": "display_data",
     "data": {
      "text/plain": "<Figure size 432x288 with 1 Axes>",
      "image/svg+xml": "<?xml version=\"1.0\" encoding=\"utf-8\" standalone=\"no\"?>\n<!DOCTYPE svg PUBLIC \"-//W3C//DTD SVG 1.1//EN\"\n  \"http://www.w3.org/Graphics/SVG/1.1/DTD/svg11.dtd\">\n<svg height=\"248.518125pt\" version=\"1.1\" viewBox=\"0 0 251.565 248.518125\" width=\"251.565pt\" xmlns=\"http://www.w3.org/2000/svg\" xmlns:xlink=\"http://www.w3.org/1999/xlink\">\n <metadata>\n  <rdf:RDF xmlns:cc=\"http://creativecommons.org/ns#\" xmlns:dc=\"http://purl.org/dc/elements/1.1/\" xmlns:rdf=\"http://www.w3.org/1999/02/22-rdf-syntax-ns#\">\n   <cc:Work>\n    <dc:type rdf:resource=\"http://purl.org/dc/dcmitype/StillImage\"/>\n    <dc:date>2021-06-08T09:53:56.207149</dc:date>\n    <dc:format>image/svg+xml</dc:format>\n    <dc:creator>\n     <cc:Agent>\n      <dc:title>Matplotlib v3.4.1, https://matplotlib.org/</dc:title>\n     </cc:Agent>\n    </dc:creator>\n   </cc:Work>\n  </rdf:RDF>\n </metadata>\n <defs>\n  <style type=\"text/css\">*{stroke-linecap:butt;stroke-linejoin:round;}</style>\n </defs>\n <g id=\"figure_1\">\n  <g id=\"patch_1\">\n   <path d=\"M 0 248.518125 \nL 251.565 248.518125 \nL 251.565 0 \nL 0 0 \nz\n\" style=\"fill:none;\"/>\n  </g>\n  <g id=\"axes_1\">\n   <g id=\"patch_2\">\n    <path d=\"M 26.925 224.64 \nL 244.365 224.64 \nL 244.365 7.2 \nL 26.925 7.2 \nz\n\" style=\"fill:#ffffff;\"/>\n   </g>\n   <g clip-path=\"url(#pc13f853ff3)\">\n    <image height=\"218\" id=\"imageb9ff3095e3\" transform=\"scale(1 -1)translate(0 -218)\" width=\"218\" x=\"26.925\" xlink:href=\"data:image/png;base64,\niVBORw0KGgoAAAANSUhEUgAAANoAAADaCAYAAADAHVzbAAAFJklEQVR4nO3dvWpUaxTH4RkRYoKV+IEmegHiDSRgKQhBsBAC6i3kUoKtIMZSbKxSiV+FShRbO4UgkalDQImSeOqDZ6+tme0/O2eep11sfSX8XDAvOzMcDAY/B8BfdeSgDwCTQGgQIDQIEBoECA0ChAYBQoOAowd9AH61sLAw1vNv3rzp6CR0xUaDAKFBgNAgQGgQIDQIEBoECA0ChgPvo/XOs2fPyvmPHz/K+dWrV7s8Dh2w0SBAaBAgNAgQGgQIDQKEBgFek+mh48ePl/PRaBQ6CV2x0SBAaBAgNAgQGgQIDQKEBgFCgwD3aD00PT1dzr99+xY6CV2x0SBAaBAgNAgQGgQIDQKEBgFCgwD3aD00MzNTzr9+/Ro6CV2x0SBAaBAgNAgQGgQIDQKEBgFCgwD3aD3U9j6ae7TDx0aDAKFBgNAgQGgQIDQIEBoECA0C3KP10N7eXjk/etSP7bCx0SBAaBAgNAgQGgQIDQKEBgE+J+6h0WhUzs+ePRs6CV2x0SBAaBAgNAgQGgQIDQKEBgFCgwD3aD20ublZzi9cuBA6CV2x0SBAaBAgNAgQGgQIDQKEBgFCgwD3aD305cuXcr6wsBA6CV2x0SBAaBAgNAgQGgQIDQKEBgFCgwD3aD3Udo92+vTpcj41NVXOd3Z2/vhMjMdGgwChQYDQIEBoECA0CBAaBPh4v4faft3ccDgs521f67SxsfGnR2JMNhoECA0ChAYBQoMAoUGA0CBAaBDgHq2H2u7R2szNzZVz92h5NhoECA0ChAYBQoMAoUGA0CBAaBDgHq2Hxr1Hm52d7egkdMVGgwChQYDQIEBoECA0CBAaBAgNAtyj9VDb1za1aXsfjTwbDQKEBgFCgwChQYDQIEBoECA0CHCP9pdMTU01ztreF2v7/rOtra1yfv78+XJOno0GAUKDAKFBgNAgQGgQIDQI8PH+Pl2/fr2c37t3r3F28uTJjk/zb0tLS+X8/fv3jbOHDx+Wz+7u7u7rTJPORoMAoUGA0CBAaBAgNAgQGgQIDQKGg8Hg50Efoo+OHTtWzj99+lTOR6NR42xlZaV8dm9vr5w/ePCgnLe9ZlP92x4/flw+e/PmzXK+s7NTzieVjQYBQoMAoUGA0CBAaBAgNAgQGgR4H63BlStXyvm5c+fK+a1btxpnL1++3M+Rftvr16/L+eLiYuPs7t275bO3b98u5/fv3y/nk8pGgwChQYDQIEBoECA0CBAaBAgNAtyjNWh7H63N5uZmRyf51aNHj8Z6vvrdjW33aNPT02P93ZPKRoMAoUGA0CBAaBAgNAgQGgQIDQKEBgFCgwChQYDQIEBoECA0CBAaBHhNpsHnz5/Hev7y5cuNs48fP471Z3P42GgQIDQIEBoECA0ChAYBQoMAoUGAe7QGb9++LeevXr0q53fu3GmcffjwoXz23bt35Xxcp06d2vez29vbHZ5kcthoECA0CBAaBAgNAoQGAUKDAKFBgHu0fbpx40Y5f/78eePsyZMn5bPLy8vl/MWLF+W87Sujrl27Vs4r6+vr+352ktloECA0CBAaBAgNAoQGAUKDAKFBwHAwGPw86EP8H505c6Zx9vTp0/LZS5cudX2c37a2tlbOx7mDm2Q2GgQIDQKEBgFCgwChQYDQIMDH+wfgyJH6/7eLFy+W8/n5+XJ+4sSJcv79+/fG2erqavns1tZWOee/2WgQIDQIEBoECA0ChAYBQoMAoUGAezQIsNEgQGgQIDQIEBoECA0ChAYBQoOAfwAMPKgXuNHyVwAAAABJRU5ErkJggg==\" y=\"-6.64\"/>\n   </g>\n   <g id=\"matplotlib.axis_1\">\n    <g id=\"xtick_1\">\n     <g id=\"line2d_1\">\n      <defs>\n       <path d=\"M 0 0 \nL 0 3.5 \n\" id=\"m9786ac1008\" style=\"stroke:#000000;stroke-width:0.8;\"/>\n      </defs>\n      <g>\n       <use style=\"stroke:#000000;stroke-width:0.8;\" x=\"30.807857\" xlink:href=\"#m9786ac1008\" y=\"224.64\"/>\n      </g>\n     </g>\n     <g id=\"text_1\">\n      <!-- 0 -->\n      <g transform=\"translate(27.626607 239.238437)scale(0.1 -0.1)\">\n       <defs>\n        <path d=\"M 2034 4250 \nQ 1547 4250 1301 3770 \nQ 1056 3291 1056 2328 \nQ 1056 1369 1301 889 \nQ 1547 409 2034 409 \nQ 2525 409 2770 889 \nQ 3016 1369 3016 2328 \nQ 3016 3291 2770 3770 \nQ 2525 4250 2034 4250 \nz\nM 2034 4750 \nQ 2819 4750 3233 4129 \nQ 3647 3509 3647 2328 \nQ 3647 1150 3233 529 \nQ 2819 -91 2034 -91 \nQ 1250 -91 836 529 \nQ 422 1150 422 2328 \nQ 422 3509 836 4129 \nQ 1250 4750 2034 4750 \nz\n\" id=\"DejaVuSans-30\" transform=\"scale(0.015625)\"/>\n       </defs>\n       <use xlink:href=\"#DejaVuSans-30\"/>\n      </g>\n     </g>\n    </g>\n    <g id=\"xtick_2\">\n     <g id=\"line2d_2\">\n      <g>\n       <use style=\"stroke:#000000;stroke-width:0.8;\" x=\"69.636429\" xlink:href=\"#m9786ac1008\" y=\"224.64\"/>\n      </g>\n     </g>\n     <g id=\"text_2\">\n      <!-- 5 -->\n      <g transform=\"translate(66.455179 239.238437)scale(0.1 -0.1)\">\n       <defs>\n        <path d=\"M 691 4666 \nL 3169 4666 \nL 3169 4134 \nL 1269 4134 \nL 1269 2991 \nQ 1406 3038 1543 3061 \nQ 1681 3084 1819 3084 \nQ 2600 3084 3056 2656 \nQ 3513 2228 3513 1497 \nQ 3513 744 3044 326 \nQ 2575 -91 1722 -91 \nQ 1428 -91 1123 -41 \nQ 819 9 494 109 \nL 494 744 \nQ 775 591 1075 516 \nQ 1375 441 1709 441 \nQ 2250 441 2565 725 \nQ 2881 1009 2881 1497 \nQ 2881 1984 2565 2268 \nQ 2250 2553 1709 2553 \nQ 1456 2553 1204 2497 \nQ 953 2441 691 2322 \nL 691 4666 \nz\n\" id=\"DejaVuSans-35\" transform=\"scale(0.015625)\"/>\n       </defs>\n       <use xlink:href=\"#DejaVuSans-35\"/>\n      </g>\n     </g>\n    </g>\n    <g id=\"xtick_3\">\n     <g id=\"line2d_3\">\n      <g>\n       <use style=\"stroke:#000000;stroke-width:0.8;\" x=\"108.465\" xlink:href=\"#m9786ac1008\" y=\"224.64\"/>\n      </g>\n     </g>\n     <g id=\"text_3\">\n      <!-- 10 -->\n      <g transform=\"translate(102.1025 239.238437)scale(0.1 -0.1)\">\n       <defs>\n        <path d=\"M 794 531 \nL 1825 531 \nL 1825 4091 \nL 703 3866 \nL 703 4441 \nL 1819 4666 \nL 2450 4666 \nL 2450 531 \nL 3481 531 \nL 3481 0 \nL 794 0 \nL 794 531 \nz\n\" id=\"DejaVuSans-31\" transform=\"scale(0.015625)\"/>\n       </defs>\n       <use xlink:href=\"#DejaVuSans-31\"/>\n       <use x=\"63.623047\" xlink:href=\"#DejaVuSans-30\"/>\n      </g>\n     </g>\n    </g>\n    <g id=\"xtick_4\">\n     <g id=\"line2d_4\">\n      <g>\n       <use style=\"stroke:#000000;stroke-width:0.8;\" x=\"147.293571\" xlink:href=\"#m9786ac1008\" y=\"224.64\"/>\n      </g>\n     </g>\n     <g id=\"text_4\">\n      <!-- 15 -->\n      <g transform=\"translate(140.931071 239.238437)scale(0.1 -0.1)\">\n       <use xlink:href=\"#DejaVuSans-31\"/>\n       <use x=\"63.623047\" xlink:href=\"#DejaVuSans-35\"/>\n      </g>\n     </g>\n    </g>\n    <g id=\"xtick_5\">\n     <g id=\"line2d_5\">\n      <g>\n       <use style=\"stroke:#000000;stroke-width:0.8;\" x=\"186.122143\" xlink:href=\"#m9786ac1008\" y=\"224.64\"/>\n      </g>\n     </g>\n     <g id=\"text_5\">\n      <!-- 20 -->\n      <g transform=\"translate(179.759643 239.238437)scale(0.1 -0.1)\">\n       <defs>\n        <path d=\"M 1228 531 \nL 3431 531 \nL 3431 0 \nL 469 0 \nL 469 531 \nQ 828 903 1448 1529 \nQ 2069 2156 2228 2338 \nQ 2531 2678 2651 2914 \nQ 2772 3150 2772 3378 \nQ 2772 3750 2511 3984 \nQ 2250 4219 1831 4219 \nQ 1534 4219 1204 4116 \nQ 875 4013 500 3803 \nL 500 4441 \nQ 881 4594 1212 4672 \nQ 1544 4750 1819 4750 \nQ 2544 4750 2975 4387 \nQ 3406 4025 3406 3419 \nQ 3406 3131 3298 2873 \nQ 3191 2616 2906 2266 \nQ 2828 2175 2409 1742 \nQ 1991 1309 1228 531 \nz\n\" id=\"DejaVuSans-32\" transform=\"scale(0.015625)\"/>\n       </defs>\n       <use xlink:href=\"#DejaVuSans-32\"/>\n       <use x=\"63.623047\" xlink:href=\"#DejaVuSans-30\"/>\n      </g>\n     </g>\n    </g>\n    <g id=\"xtick_6\">\n     <g id=\"line2d_6\">\n      <g>\n       <use style=\"stroke:#000000;stroke-width:0.8;\" x=\"224.950714\" xlink:href=\"#m9786ac1008\" y=\"224.64\"/>\n      </g>\n     </g>\n     <g id=\"text_6\">\n      <!-- 25 -->\n      <g transform=\"translate(218.588214 239.238437)scale(0.1 -0.1)\">\n       <use xlink:href=\"#DejaVuSans-32\"/>\n       <use x=\"63.623047\" xlink:href=\"#DejaVuSans-35\"/>\n      </g>\n     </g>\n    </g>\n   </g>\n   <g id=\"matplotlib.axis_2\">\n    <g id=\"ytick_1\">\n     <g id=\"line2d_7\">\n      <defs>\n       <path d=\"M 0 0 \nL -3.5 0 \n\" id=\"m87268e8fb9\" style=\"stroke:#000000;stroke-width:0.8;\"/>\n      </defs>\n      <g>\n       <use style=\"stroke:#000000;stroke-width:0.8;\" x=\"26.925\" xlink:href=\"#m87268e8fb9\" y=\"11.082857\"/>\n      </g>\n     </g>\n     <g id=\"text_7\">\n      <!-- 0 -->\n      <g transform=\"translate(13.5625 14.882076)scale(0.1 -0.1)\">\n       <use xlink:href=\"#DejaVuSans-30\"/>\n      </g>\n     </g>\n    </g>\n    <g id=\"ytick_2\">\n     <g id=\"line2d_8\">\n      <g>\n       <use style=\"stroke:#000000;stroke-width:0.8;\" x=\"26.925\" xlink:href=\"#m87268e8fb9\" y=\"49.911429\"/>\n      </g>\n     </g>\n     <g id=\"text_8\">\n      <!-- 5 -->\n      <g transform=\"translate(13.5625 53.710647)scale(0.1 -0.1)\">\n       <use xlink:href=\"#DejaVuSans-35\"/>\n      </g>\n     </g>\n    </g>\n    <g id=\"ytick_3\">\n     <g id=\"line2d_9\">\n      <g>\n       <use style=\"stroke:#000000;stroke-width:0.8;\" x=\"26.925\" xlink:href=\"#m87268e8fb9\" y=\"88.74\"/>\n      </g>\n     </g>\n     <g id=\"text_9\">\n      <!-- 10 -->\n      <g transform=\"translate(7.2 92.539219)scale(0.1 -0.1)\">\n       <use xlink:href=\"#DejaVuSans-31\"/>\n       <use x=\"63.623047\" xlink:href=\"#DejaVuSans-30\"/>\n      </g>\n     </g>\n    </g>\n    <g id=\"ytick_4\">\n     <g id=\"line2d_10\">\n      <g>\n       <use style=\"stroke:#000000;stroke-width:0.8;\" x=\"26.925\" xlink:href=\"#m87268e8fb9\" y=\"127.568571\"/>\n      </g>\n     </g>\n     <g id=\"text_10\">\n      <!-- 15 -->\n      <g transform=\"translate(7.2 131.36779)scale(0.1 -0.1)\">\n       <use xlink:href=\"#DejaVuSans-31\"/>\n       <use x=\"63.623047\" xlink:href=\"#DejaVuSans-35\"/>\n      </g>\n     </g>\n    </g>\n    <g id=\"ytick_5\">\n     <g id=\"line2d_11\">\n      <g>\n       <use style=\"stroke:#000000;stroke-width:0.8;\" x=\"26.925\" xlink:href=\"#m87268e8fb9\" y=\"166.397143\"/>\n      </g>\n     </g>\n     <g id=\"text_11\">\n      <!-- 20 -->\n      <g transform=\"translate(7.2 170.196362)scale(0.1 -0.1)\">\n       <use xlink:href=\"#DejaVuSans-32\"/>\n       <use x=\"63.623047\" xlink:href=\"#DejaVuSans-30\"/>\n      </g>\n     </g>\n    </g>\n    <g id=\"ytick_6\">\n     <g id=\"line2d_12\">\n      <g>\n       <use style=\"stroke:#000000;stroke-width:0.8;\" x=\"26.925\" xlink:href=\"#m87268e8fb9\" y=\"205.225714\"/>\n      </g>\n     </g>\n     <g id=\"text_12\">\n      <!-- 25 -->\n      <g transform=\"translate(7.2 209.024933)scale(0.1 -0.1)\">\n       <use xlink:href=\"#DejaVuSans-32\"/>\n       <use x=\"63.623047\" xlink:href=\"#DejaVuSans-35\"/>\n      </g>\n     </g>\n    </g>\n   </g>\n   <g id=\"patch_3\">\n    <path d=\"M 26.925 224.64 \nL 26.925 7.2 \n\" style=\"fill:none;stroke:#000000;stroke-linecap:square;stroke-linejoin:miter;stroke-width:0.8;\"/>\n   </g>\n   <g id=\"patch_4\">\n    <path d=\"M 244.365 224.64 \nL 244.365 7.2 \n\" style=\"fill:none;stroke:#000000;stroke-linecap:square;stroke-linejoin:miter;stroke-width:0.8;\"/>\n   </g>\n   <g id=\"patch_5\">\n    <path d=\"M 26.925 224.64 \nL 244.365 224.64 \n\" style=\"fill:none;stroke:#000000;stroke-linecap:square;stroke-linejoin:miter;stroke-width:0.8;\"/>\n   </g>\n   <g id=\"patch_6\">\n    <path d=\"M 26.925 7.2 \nL 244.365 7.2 \n\" style=\"fill:none;stroke:#000000;stroke-linecap:square;stroke-linejoin:miter;stroke-width:0.8;\"/>\n   </g>\n  </g>\n </g>\n <defs>\n  <clipPath id=\"pc13f853ff3\">\n   <rect height=\"217.44\" width=\"217.44\" x=\"26.925\" y=\"7.2\"/>\n  </clipPath>\n </defs>\n</svg>\n",
      "image/png": "[encoded data removed]"
     },
     "metadata": {
      "needs_background": "light"
     }
    }
   ],
   "source": [
    "import matplotlib.pyplot as plt\n",
    "from random import randint\n",
    "%matplotlib inline\n",
    "plt.imshow(X_train[23], cmap='gray') "
   ]
  },
  {
   "cell_type": "code",
   "execution_count": 126,
   "metadata": {},
   "outputs": [
    {
     "output_type": "stream",
     "name": "stdout",
     "text": [
      "(384000, 28, 28, 1)\n(96000, 28, 28, 1)\n"
     ]
    }
   ],
   "source": [
    "# Keras needs images whose last dimension is the number of channels, its 1 for black and white.\n",
    "from tensorflow.keras.backend import expand_dims\n",
    "\n",
    "X_train = expand_dims(X_train, axis=-1)\n",
    "X_test = expand_dims(X_test, axis=-1)\n",
    "\n",
    "print(X_train.shape)\n",
    "print(X_test.shape)"
   ]
  },
  {
   "cell_type": "code",
   "execution_count": 127,
   "metadata": {},
   "outputs": [],
   "source": [
    "#normalize the data by dividing it by 255 \n",
    "\n",
    "X_train /= 255 \n",
    "X_test /= 255"
   ]
  },
  {
   "cell_type": "code",
   "execution_count": 128,
   "metadata": {},
   "outputs": [],
   "source": [
    "num_labels = len(label_names)"
   ]
  },
  {
   "cell_type": "code",
   "execution_count": 129,
   "metadata": {},
   "outputs": [],
   "source": [
    "from tensorflow.keras.utils import to_categorical\n",
    "\n",
    "y_train_cat = to_categorical(y_train, num_labels)\n",
    "y_test_cat = to_categorical(y_test, num_labels)"
   ]
  },
  {
   "cell_type": "code",
   "execution_count": 130,
   "metadata": {},
   "outputs": [],
   "source": [
    "from tensorflow.keras import layers\n",
    "from tensorflow.keras import models"
   ]
  },
  {
   "cell_type": "code",
   "execution_count": 131,
   "metadata": {},
   "outputs": [],
   "source": [
    "def initialize_model():\n",
    "    model = models.Sequential()\n",
    "    model.add(layers.Convolution2D(16, (3, 3),\n",
    "                            padding='same',\n",
    "                            input_shape=X_train.shape[1:], activation='relu'))\n",
    "    model.add(layers.MaxPooling2D(pool_size=(2, 2)))\n",
    "    model.add(layers.Convolution2D(32, (3, 3), padding='same', activation= 'relu'))\n",
    "    model.add(layers.MaxPooling2D(pool_size=(2, 2)))\n",
    "    model.add(layers.Convolution2D(64, (3, 3), padding='same', activation= 'relu'))\n",
    "    model.add(layers.MaxPooling2D(pool_size =(2,2)))\n",
    "    model.add(layers.Flatten())\n",
    "    model.add(layers.Dense(128, activation='relu'))\n",
    "    model.add(layers.Dense(num_labels, activation='softmax')) \n",
    "    # Train model\n",
    "    model.compile(loss='categorical_crossentropy',\n",
    "                optimizer='adam',\n",
    "                metrics=['top_k_categorical_accuracy'])\n",
    "    return model"
   ]
  },
  {
   "cell_type": "code",
   "execution_count": 132,
   "metadata": {},
   "outputs": [],
   "source": [
    "model = initialize_model()"
   ]
  },
  {
   "cell_type": "code",
   "execution_count": 133,
   "metadata": {},
   "outputs": [
    {
     "output_type": "stream",
     "name": "stdout",
     "text": [
      "Model: \"sequential_9\"\n_________________________________________________________________\nLayer (type)                 Output Shape              Param #   \n=================================================================\nconv2d_24 (Conv2D)           (None, 28, 28, 16)        160       \n_________________________________________________________________\nmax_pooling2d_24 (MaxPooling (None, 14, 14, 16)        0         \n_________________________________________________________________\nconv2d_25 (Conv2D)           (None, 14, 14, 32)        4640      \n_________________________________________________________________\nmax_pooling2d_25 (MaxPooling (None, 7, 7, 32)          0         \n_________________________________________________________________\nconv2d_26 (Conv2D)           (None, 7, 7, 64)          18496     \n_________________________________________________________________\nmax_pooling2d_26 (MaxPooling (None, 3, 3, 64)          0         \n_________________________________________________________________\nflatten_8 (Flatten)          (None, 576)               0         \n_________________________________________________________________\ndense_16 (Dense)             (None, 128)               73856     \n_________________________________________________________________\ndense_17 (Dense)             (None, 24)                3096      \n=================================================================\nTotal params: 100,248\nTrainable params: 100,248\nNon-trainable params: 0\n_________________________________________________________________\n"
     ]
    }
   ],
   "source": [
    "model.summary()"
   ]
  },
  {
   "cell_type": "code",
   "execution_count": 134,
   "metadata": {},
   "outputs": [
    {
     "output_type": "stream",
     "name": "stdout",
     "text": [
      "Epoch 1/5\n",
      "2100/2100 [==============================] - 224s 106ms/step - loss: 1.2452 - top_k_categorical_accuracy: 0.8775 - val_loss: 0.6365 - val_top_k_categorical_accuracy: 0.9589\n",
      "Epoch 2/5\n",
      "2100/2100 [==============================] - 250s 119ms/step - loss: 0.5907 - top_k_categorical_accuracy: 0.9623 - val_loss: 0.5541 - val_top_k_categorical_accuracy: 0.9655\n",
      "Epoch 3/5\n",
      "2100/2100 [==============================] - 246s 117ms/step - loss: 0.5091 - top_k_categorical_accuracy: 0.9689 - val_loss: 0.5172 - val_top_k_categorical_accuracy: 0.9680\n",
      "Epoch 4/5\n",
      "2100/2100 [==============================] - 284s 135ms/step - loss: 0.4640 - top_k_categorical_accuracy: 0.9728 - val_loss: 0.4954 - val_top_k_categorical_accuracy: 0.9699\n",
      "Epoch 5/5\n",
      "2100/2100 [==============================] - 268s 127ms/step - loss: 0.4356 - top_k_categorical_accuracy: 0.9749 - val_loss: 0.4814 - val_top_k_categorical_accuracy: 0.9709\n"
     ]
    },
    {
     "output_type": "execute_result",
     "data": {
      "text/plain": [
       "<tensorflow.python.keras.callbacks.History at 0x146b2c790>"
      ]
     },
     "metadata": {},
     "execution_count": 134
    }
   ],
   "source": [
    "model = initialize_model()\n",
    "\n",
    "model.fit(X_train, y_train_cat,\n",
    "          batch_size = 128,\n",
    "          epochs=5,\n",
    "          validation_split=0.3,\n",
    "          verbose=1)"
   ]
  },
  {
   "cell_type": "code",
   "execution_count": 135,
   "metadata": {},
   "outputs": [
    {
     "output_type": "stream",
     "name": "stdout",
     "text": [
      "Test accuarcy: 97.18%\n"
     ]
    }
   ],
   "source": [
    "score = model.evaluate(X_test, y_test_cat, verbose=0)\n",
    "print('Test accuarcy: {:0.2f}%'.format(score[1] * 100))"
   ]
  },
  {
   "cell_type": "code",
   "execution_count": 180,
   "metadata": {},
   "outputs": [],
   "source": [
    "y_pred = model.predict(X_pred)"
   ]
  },
  {
   "cell_type": "code",
   "execution_count": 172,
   "metadata": {},
   "outputs": [
    {
     "output_type": "stream",
     "name": "stdout",
     "text": [
      "INFO:tensorflow:Assets written to: model.save/assets\n"
     ]
    }
   ],
   "source": [
    "import joblib\n",
    "model.save('model.save')\n"
   ]
  },
  {
   "cell_type": "code",
   "execution_count": 173,
   "metadata": {},
   "outputs": [],
   "source": [
    "from tensorflow.keras.models import load_model"
   ]
  },
  {
   "cell_type": "code",
   "execution_count": 175,
   "metadata": {},
   "outputs": [],
   "source": [
    "model2 = load_model('model.save')"
   ]
  },
  {
   "cell_type": "code",
   "execution_count": 185,
   "metadata": {},
   "outputs": [],
   "source": [
    "model3 = load_model('model.save')"
   ]
  },
  {
   "cell_type": "code",
   "execution_count": null,
   "metadata": {},
   "outputs": [],
   "source": []
  }
 ]
}