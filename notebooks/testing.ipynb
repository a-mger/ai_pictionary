{
 "metadata": {
  "language_info": {
   "codemirror_mode": {
    "name": "ipython",
    "version": 3
   },
   "file_extension": ".py",
   "mimetype": "text/x-python",
   "name": "python",
   "nbconvert_exporter": "python",
   "pygments_lexer": "ipython3",
   "version": "3.8.6"
  },
  "orig_nbformat": 2,
  "kernelspec": {
   "name": "python386jvsc74a57bd09cd1032da00104eb9e518d9588f7547d6e9370ea5de9e6cbf3b202eeac076a1f",
   "display_name": "Python 3.8.6 64-bit ('shims': pyenv)"
  }
 },
 "nbformat": 4,
 "nbformat_minor": 2,
 "cells": [
  {
   "cell_type": "code",
   "execution_count": 5,
   "metadata": {},
   "outputs": [],
   "source": [
    "import numpy as np\n",
    "import pandas as pd"
   ]
  },
  {
   "cell_type": "code",
   "execution_count": 113,
   "metadata": {},
   "outputs": [
    {
     "output_type": "execute_result",
     "data": {
      "text/plain": [
       "(132826, 784)"
      ]
     },
     "metadata": {},
     "execution_count": 113
    }
   ],
   "source": [
    "#to load in the npy file as a numpy array\n",
    "data_broccoli = np.load('../raw_data/broccoli.npy')\n",
    "\n",
    "#checking shape of data\n",
    "data_broccoli.shape"
   ]
  },
  {
   "cell_type": "code",
   "execution_count": 3,
   "metadata": {},
   "outputs": [],
   "source": [
    "#making list of filenames to load locally\n",
    "\n",
    "filenames = [\"alarmclock.npy\", \"bicycle.npy\", \"boomerang.npy\", \"bread.npy\", \"broccoli.npy\", \"full_numpy_bitmap_ant.npy\", \"full_numpy_bitmap_banana.npy\", \"full_numpy_bitmap_baseball.npy\",\"full_numpy_bitmap_basketball.npy\",\"full_numpy_bitmap_birthday cake.npy\",\"full_numpy_bitmap_bracelet.npy\",\"full_numpy_bitmap_cookie.npy\",\"full_numpy_bitmap_hat.npy\",\"full_numpy_bitmap_lollipop.npy\",\"full_numpy_bitmap_moon.npy\",\"full_numpy_bitmap_pizza.npy\",\"full_numpy_bitmap_spoon.npy\",\"full_numpy_bitmap_sun.npy\",\"full_numpy_bitmap_umbrella.npy\",\"full_numpy_bitmap_wheel.npy\", \"lantern.npy\", \"lightning.npy\", \"streetlight.npy\", \"tennis racquet.npy\", \"tractor.npy\", \"full_numpy_bitmap_beach.npy\", \"full_numpy_bitmap_bridge.npy\", \"full_numpy_bitmap_bulldozer.npy\", \"full_numpy_bitmap_clock.npy\", \"full_numpy_bitmap_cloud.npy\", \"full_numpy_bitmap_compass.npy\", \"full_numpy_bitmap_crab.npy\", \"full_numpy_bitmap_cruise ship.npy\", \"full_numpy_bitmap_donut.npy\", \"full_numpy_bitmap_dragon.npy\"]"
   ]
  },
  {
   "cell_type": "code",
   "execution_count": 4,
   "metadata": {},
   "outputs": [
    {
     "output_type": "execute_result",
     "data": {
      "text/plain": [
       "35"
      ]
     },
     "metadata": {},
     "execution_count": 4
    }
   ],
   "source": [
    "len(filenames)"
   ]
  },
  {
   "cell_type": "code",
   "execution_count": null,
   "metadata": {},
   "outputs": [],
   "source": [
    "#label names in list \n",
    "\n",
    "url = 'https://raw.githubusercontent.com/googlecreativelab/quickdraw-dataset/master/categories.txt'\n",
    "data = urlopen(url)\n",
    "labels = [line.decode(\"utf-8\").strip() for line in data]"
   ]
  },
  {
   "cell_type": "code",
   "execution_count": 115,
   "metadata": {},
   "outputs": [
    {
     "output_type": "execute_result",
     "data": {
      "text/plain": [
       "'banana.npy'"
      ]
     },
     "metadata": {},
     "execution_count": 115
    }
   ],
   "source": [
    "str = \"full_numpy_bitmap_banana.npy\"\n",
    "str.replace(\"full_numpy_bitmap_\", \"\")"
   ]
  },
  {
   "cell_type": "code",
   "execution_count": 116,
   "metadata": {},
   "outputs": [
    {
     "output_type": "execute_result",
     "data": {
      "text/plain": [
       "'alarmclock'"
      ]
     },
     "metadata": {},
     "execution_count": 116
    }
   ],
   "source": [
    "class_name = os.path.splitext(filenames[0])[0]\n",
    "class_name"
   ]
  },
  {
   "cell_type": "code",
   "execution_count": 6,
   "metadata": {},
   "outputs": [],
   "source": []
  },
  {
   "cell_type": "code",
   "execution_count": 6,
   "metadata": {},
   "outputs": [],
   "source": [
    "import os\n",
    "\n",
    "#creating X, y and index to use for the loop and a label_names for making a list to check the y-label\n",
    "X = np.empty([0, 784])\n",
    "y = np.empty([0])\n",
    "index = 0\n",
    "label_names = []\n",
    "\n",
    "#setting a max per class to retrieve from npy file, we taking 5000 subjects per label for training\n",
    "max_items_per_class = 10000\n",
    "\n",
    "#loading data from the npy files. taking 5000 per label and creating a (y)target using the index starting from 1.\n",
    "\n",
    "for fname in filenames:\n",
    "    label_name = fname\n",
    "    label_name = os.path.splitext(label_name)[0]\n",
    "    label_name = label_name.replace(\"full_numpy_bitmap_\", \"\")\n",
    "    label_names.append(label_name) if label_name not in label_names else label_names\n",
    "    data = np.load('../raw_data/' + fname)\n",
    "    data = data[0: max_items_per_class, :]\n",
    "    label = np.full(data.shape[0], index)\n",
    "    y = np.append(y, label)\n",
    "    X = np.concatenate((X, data), axis=0)\n",
    "    index += 1"
   ]
  },
  {
   "cell_type": "code",
   "execution_count": 9,
   "metadata": {},
   "outputs": [
    {
     "output_type": "execute_result",
     "data": {
      "text/plain": [
       "['alarmclock',\n",
       " 'bicycle',\n",
       " 'boomerang',\n",
       " 'bread',\n",
       " 'broccoli',\n",
       " 'ant',\n",
       " 'banana',\n",
       " 'baseball',\n",
       " 'basketball',\n",
       " 'birthday cake',\n",
       " 'bracelet',\n",
       " 'cookie',\n",
       " 'hat',\n",
       " 'lollipop',\n",
       " 'moon',\n",
       " 'pizza',\n",
       " 'spoon',\n",
       " 'sun',\n",
       " 'umbrella',\n",
       " 'wheel',\n",
       " 'lantern',\n",
       " 'lightning',\n",
       " 'streetlight',\n",
       " 'tennis racquet',\n",
       " 'tractor',\n",
       " 'beach',\n",
       " 'bridge',\n",
       " 'bulldozer',\n",
       " 'clock',\n",
       " 'cloud',\n",
       " 'compass',\n",
       " 'crab',\n",
       " 'cruise ship',\n",
       " 'donut',\n",
       " 'dragon']"
      ]
     },
     "metadata": {},
     "execution_count": 9
    }
   ],
   "source": [
    "#printing label names \n",
    "label_names"
   ]
  },
  {
   "cell_type": "code",
   "execution_count": 10,
   "metadata": {},
   "outputs": [
    {
     "output_type": "execute_result",
     "data": {
      "text/plain": [
       "(350000, 784)"
      ]
     },
     "metadata": {},
     "execution_count": 10
    }
   ],
   "source": [
    "#checking shape of the X after looping the filenames\n",
    "X.shape"
   ]
  },
  {
   "cell_type": "code",
   "execution_count": 11,
   "metadata": {},
   "outputs": [
    {
     "output_type": "execute_result",
     "data": {
      "text/plain": [
       "(350000, 28, 28)"
      ]
     },
     "metadata": {},
     "execution_count": 11
    }
   ],
   "source": [
    "#reshaping to (28,28)\n",
    "\n",
    "X = X.reshape(len(X),28,28)\n",
    "X.shape"
   ]
  },
  {
   "cell_type": "code",
   "execution_count": 12,
   "metadata": {},
   "outputs": [],
   "source": [
    "import numpy as np\n",
    "from sklearn.model_selection import train_test_split"
   ]
  },
  {
   "cell_type": "code",
   "execution_count": 13,
   "metadata": {},
   "outputs": [],
   "source": [
    "#making test and training set with train test split\n",
    "\n",
    "X_train, X_test, y_train, y_test = train_test_split(X, y, test_size=0.20, random_state=42)"
   ]
  },
  {
   "cell_type": "code",
   "execution_count": 21,
   "metadata": {},
   "outputs": [
    {
     "output_type": "execute_result",
     "data": {
      "text/plain": [
       "'compass'"
      ]
     },
     "metadata": {},
     "execution_count": 21
    },
    {
     "output_type": "display_data",
     "data": {
      "text/plain": "<Figure size 432x288 with 1 Axes>",
      "image/svg+xml": "<?xml version=\"1.0\" encoding=\"utf-8\" standalone=\"no\"?>\n<!DOCTYPE svg PUBLIC \"-//W3C//DTD SVG 1.1//EN\"\n  \"http://www.w3.org/Graphics/SVG/1.1/DTD/svg11.dtd\">\n<svg height=\"248.518125pt\" version=\"1.1\" viewBox=\"0 0 251.565 248.518125\" width=\"251.565pt\" xmlns=\"http://www.w3.org/2000/svg\" xmlns:xlink=\"http://www.w3.org/1999/xlink\">\n <metadata>\n  <rdf:RDF xmlns:cc=\"http://creativecommons.org/ns#\" xmlns:dc=\"http://purl.org/dc/elements/1.1/\" xmlns:rdf=\"http://www.w3.org/1999/02/22-rdf-syntax-ns#\">\n   <cc:Work>\n    <dc:type rdf:resource=\"http://purl.org/dc/dcmitype/StillImage\"/>\n    <dc:date>2021-06-09T15:15:49.986167</dc:date>\n    <dc:format>image/svg+xml</dc:format>\n    <dc:creator>\n     <cc:Agent>\n      <dc:title>Matplotlib v3.4.1, https://matplotlib.org/</dc:title>\n     </cc:Agent>\n    </dc:creator>\n   </cc:Work>\n  </rdf:RDF>\n </metadata>\n <defs>\n  <style type=\"text/css\">*{stroke-linecap:butt;stroke-linejoin:round;}</style>\n </defs>\n <g id=\"figure_1\">\n  <g id=\"patch_1\">\n   <path d=\"M 0 248.518125 \nL 251.565 248.518125 \nL 251.565 0 \nL 0 0 \nz\n\" style=\"fill:none;\"/>\n  </g>\n  <g id=\"axes_1\">\n   <g id=\"patch_2\">\n    <path d=\"M 26.925 224.64 \nL 244.365 224.64 \nL 244.365 7.2 \nL 26.925 7.2 \nz\n\" style=\"fill:#ffffff;\"/>\n   </g>\n   <g clip-path=\"url(#p8be27de56c)\">\n    <image height=\"218\" id=\"image24654e29db\" transform=\"scale(1 -1)translate(0 -218)\" width=\"218\" x=\"26.925\" xlink:href=\"data:image/png;base64,\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\" y=\"-6.64\"/>\n   </g>\n   <g id=\"matplotlib.axis_1\">\n    <g id=\"xtick_1\">\n     <g id=\"line2d_1\">\n      <defs>\n       <path d=\"M 0 0 \nL 0 3.5 \n\" id=\"mc379c91719\" style=\"stroke:#000000;stroke-width:0.8;\"/>\n      </defs>\n      <g>\n       <use style=\"stroke:#000000;stroke-width:0.8;\" x=\"30.807857\" xlink:href=\"#mc379c91719\" y=\"224.64\"/>\n      </g>\n     </g>\n     <g id=\"text_1\">\n      <!-- 0 -->\n      <g transform=\"translate(27.626607 239.238437)scale(0.1 -0.1)\">\n       <defs>\n        <path d=\"M 2034 4250 \nQ 1547 4250 1301 3770 \nQ 1056 3291 1056 2328 \nQ 1056 1369 1301 889 \nQ 1547 409 2034 409 \nQ 2525 409 2770 889 \nQ 3016 1369 3016 2328 \nQ 3016 3291 2770 3770 \nQ 2525 4250 2034 4250 \nz\nM 2034 4750 \nQ 2819 4750 3233 4129 \nQ 3647 3509 3647 2328 \nQ 3647 1150 3233 529 \nQ 2819 -91 2034 -91 \nQ 1250 -91 836 529 \nQ 422 1150 422 2328 \nQ 422 3509 836 4129 \nQ 1250 4750 2034 4750 \nz\n\" id=\"DejaVuSans-30\" transform=\"scale(0.015625)\"/>\n       </defs>\n       <use xlink:href=\"#DejaVuSans-30\"/>\n      </g>\n     </g>\n    </g>\n    <g id=\"xtick_2\">\n     <g id=\"line2d_2\">\n      <g>\n       <use style=\"stroke:#000000;stroke-width:0.8;\" x=\"69.636429\" xlink:href=\"#mc379c91719\" y=\"224.64\"/>\n      </g>\n     </g>\n     <g id=\"text_2\">\n      <!-- 5 -->\n      <g transform=\"translate(66.455179 239.238437)scale(0.1 -0.1)\">\n       <defs>\n        <path d=\"M 691 4666 \nL 3169 4666 \nL 3169 4134 \nL 1269 4134 \nL 1269 2991 \nQ 1406 3038 1543 3061 \nQ 1681 3084 1819 3084 \nQ 2600 3084 3056 2656 \nQ 3513 2228 3513 1497 \nQ 3513 744 3044 326 \nQ 2575 -91 1722 -91 \nQ 1428 -91 1123 -41 \nQ 819 9 494 109 \nL 494 744 \nQ 775 591 1075 516 \nQ 1375 441 1709 441 \nQ 2250 441 2565 725 \nQ 2881 1009 2881 1497 \nQ 2881 1984 2565 2268 \nQ 2250 2553 1709 2553 \nQ 1456 2553 1204 2497 \nQ 953 2441 691 2322 \nL 691 4666 \nz\n\" id=\"DejaVuSans-35\" transform=\"scale(0.015625)\"/>\n       </defs>\n       <use xlink:href=\"#DejaVuSans-35\"/>\n      </g>\n     </g>\n    </g>\n    <g id=\"xtick_3\">\n     <g id=\"line2d_3\">\n      <g>\n       <use style=\"stroke:#000000;stroke-width:0.8;\" x=\"108.465\" xlink:href=\"#mc379c91719\" y=\"224.64\"/>\n      </g>\n     </g>\n     <g id=\"text_3\">\n      <!-- 10 -->\n      <g transform=\"translate(102.1025 239.238437)scale(0.1 -0.1)\">\n       <defs>\n        <path d=\"M 794 531 \nL 1825 531 \nL 1825 4091 \nL 703 3866 \nL 703 4441 \nL 1819 4666 \nL 2450 4666 \nL 2450 531 \nL 3481 531 \nL 3481 0 \nL 794 0 \nL 794 531 \nz\n\" id=\"DejaVuSans-31\" transform=\"scale(0.015625)\"/>\n       </defs>\n       <use xlink:href=\"#DejaVuSans-31\"/>\n       <use x=\"63.623047\" xlink:href=\"#DejaVuSans-30\"/>\n      </g>\n     </g>\n    </g>\n    <g id=\"xtick_4\">\n     <g id=\"line2d_4\">\n      <g>\n       <use style=\"stroke:#000000;stroke-width:0.8;\" x=\"147.293571\" xlink:href=\"#mc379c91719\" y=\"224.64\"/>\n      </g>\n     </g>\n     <g id=\"text_4\">\n      <!-- 15 -->\n      <g transform=\"translate(140.931071 239.238437)scale(0.1 -0.1)\">\n       <use xlink:href=\"#DejaVuSans-31\"/>\n       <use x=\"63.623047\" xlink:href=\"#DejaVuSans-35\"/>\n      </g>\n     </g>\n    </g>\n    <g id=\"xtick_5\">\n     <g id=\"line2d_5\">\n      <g>\n       <use style=\"stroke:#000000;stroke-width:0.8;\" x=\"186.122143\" xlink:href=\"#mc379c91719\" y=\"224.64\"/>\n      </g>\n     </g>\n     <g id=\"text_5\">\n      <!-- 20 -->\n      <g transform=\"translate(179.759643 239.238437)scale(0.1 -0.1)\">\n       <defs>\n        <path d=\"M 1228 531 \nL 3431 531 \nL 3431 0 \nL 469 0 \nL 469 531 \nQ 828 903 1448 1529 \nQ 2069 2156 2228 2338 \nQ 2531 2678 2651 2914 \nQ 2772 3150 2772 3378 \nQ 2772 3750 2511 3984 \nQ 2250 4219 1831 4219 \nQ 1534 4219 1204 4116 \nQ 875 4013 500 3803 \nL 500 4441 \nQ 881 4594 1212 4672 \nQ 1544 4750 1819 4750 \nQ 2544 4750 2975 4387 \nQ 3406 4025 3406 3419 \nQ 3406 3131 3298 2873 \nQ 3191 2616 2906 2266 \nQ 2828 2175 2409 1742 \nQ 1991 1309 1228 531 \nz\n\" id=\"DejaVuSans-32\" transform=\"scale(0.015625)\"/>\n       </defs>\n       <use xlink:href=\"#DejaVuSans-32\"/>\n       <use x=\"63.623047\" xlink:href=\"#DejaVuSans-30\"/>\n      </g>\n     </g>\n    </g>\n    <g id=\"xtick_6\">\n     <g id=\"line2d_6\">\n      <g>\n       <use style=\"stroke:#000000;stroke-width:0.8;\" x=\"224.950714\" xlink:href=\"#mc379c91719\" y=\"224.64\"/>\n      </g>\n     </g>\n     <g id=\"text_6\">\n      <!-- 25 -->\n      <g transform=\"translate(218.588214 239.238437)scale(0.1 -0.1)\">\n       <use xlink:href=\"#DejaVuSans-32\"/>\n       <use x=\"63.623047\" xlink:href=\"#DejaVuSans-35\"/>\n      </g>\n     </g>\n    </g>\n   </g>\n   <g id=\"matplotlib.axis_2\">\n    <g id=\"ytick_1\">\n     <g id=\"line2d_7\">\n      <defs>\n       <path d=\"M 0 0 \nL -3.5 0 \n\" id=\"mbb14c75448\" style=\"stroke:#000000;stroke-width:0.8;\"/>\n      </defs>\n      <g>\n       <use style=\"stroke:#000000;stroke-width:0.8;\" x=\"26.925\" xlink:href=\"#mbb14c75448\" y=\"11.082857\"/>\n      </g>\n     </g>\n     <g id=\"text_7\">\n      <!-- 0 -->\n      <g transform=\"translate(13.5625 14.882076)scale(0.1 -0.1)\">\n       <use xlink:href=\"#DejaVuSans-30\"/>\n      </g>\n     </g>\n    </g>\n    <g id=\"ytick_2\">\n     <g id=\"line2d_8\">\n      <g>\n       <use style=\"stroke:#000000;stroke-width:0.8;\" x=\"26.925\" xlink:href=\"#mbb14c75448\" y=\"49.911429\"/>\n      </g>\n     </g>\n     <g id=\"text_8\">\n      <!-- 5 -->\n      <g transform=\"translate(13.5625 53.710647)scale(0.1 -0.1)\">\n       <use xlink:href=\"#DejaVuSans-35\"/>\n      </g>\n     </g>\n    </g>\n    <g id=\"ytick_3\">\n     <g id=\"line2d_9\">\n      <g>\n       <use style=\"stroke:#000000;stroke-width:0.8;\" x=\"26.925\" xlink:href=\"#mbb14c75448\" y=\"88.74\"/>\n      </g>\n     </g>\n     <g id=\"text_9\">\n      <!-- 10 -->\n      <g transform=\"translate(7.2 92.539219)scale(0.1 -0.1)\">\n       <use xlink:href=\"#DejaVuSans-31\"/>\n       <use x=\"63.623047\" xlink:href=\"#DejaVuSans-30\"/>\n      </g>\n     </g>\n    </g>\n    <g id=\"ytick_4\">\n     <g id=\"line2d_10\">\n      <g>\n       <use style=\"stroke:#000000;stroke-width:0.8;\" x=\"26.925\" xlink:href=\"#mbb14c75448\" y=\"127.568571\"/>\n      </g>\n     </g>\n     <g id=\"text_10\">\n      <!-- 15 -->\n      <g transform=\"translate(7.2 131.36779)scale(0.1 -0.1)\">\n       <use xlink:href=\"#DejaVuSans-31\"/>\n       <use x=\"63.623047\" xlink:href=\"#DejaVuSans-35\"/>\n      </g>\n     </g>\n    </g>\n    <g id=\"ytick_5\">\n     <g id=\"line2d_11\">\n      <g>\n       <use style=\"stroke:#000000;stroke-width:0.8;\" x=\"26.925\" xlink:href=\"#mbb14c75448\" y=\"166.397143\"/>\n      </g>\n     </g>\n     <g id=\"text_11\">\n      <!-- 20 -->\n      <g transform=\"translate(7.2 170.196362)scale(0.1 -0.1)\">\n       <use xlink:href=\"#DejaVuSans-32\"/>\n       <use x=\"63.623047\" xlink:href=\"#DejaVuSans-30\"/>\n      </g>\n     </g>\n    </g>\n    <g id=\"ytick_6\">\n     <g id=\"line2d_12\">\n      <g>\n       <use style=\"stroke:#000000;stroke-width:0.8;\" x=\"26.925\" xlink:href=\"#mbb14c75448\" y=\"205.225714\"/>\n      </g>\n     </g>\n     <g id=\"text_12\">\n      <!-- 25 -->\n      <g transform=\"translate(7.2 209.024933)scale(0.1 -0.1)\">\n       <use xlink:href=\"#DejaVuSans-32\"/>\n       <use x=\"63.623047\" xlink:href=\"#DejaVuSans-35\"/>\n      </g>\n     </g>\n    </g>\n   </g>\n   <g id=\"patch_3\">\n    <path d=\"M 26.925 224.64 \nL 26.925 7.2 \n\" style=\"fill:none;stroke:#000000;stroke-linecap:square;stroke-linejoin:miter;stroke-width:0.8;\"/>\n   </g>\n   <g id=\"patch_4\">\n    <path d=\"M 244.365 224.64 \nL 244.365 7.2 \n\" style=\"fill:none;stroke:#000000;stroke-linecap:square;stroke-linejoin:miter;stroke-width:0.8;\"/>\n   </g>\n   <g id=\"patch_5\">\n    <path d=\"M 26.925 224.64 \nL 244.365 224.64 \n\" style=\"fill:none;stroke:#000000;stroke-linecap:square;stroke-linejoin:miter;stroke-width:0.8;\"/>\n   </g>\n   <g id=\"patch_6\">\n    <path d=\"M 26.925 7.2 \nL 244.365 7.2 \n\" style=\"fill:none;stroke:#000000;stroke-linecap:square;stroke-linejoin:miter;stroke-width:0.8;\"/>\n   </g>\n  </g>\n </g>\n <defs>\n  <clipPath id=\"p8be27de56c\">\n   <rect height=\"217.44\" width=\"217.44\" x=\"26.925\" y=\"7.2\"/>\n  </clipPath>\n </defs>\n</svg>\n",
      "image/png": "[encoded data removed]"
     },
     "metadata": {
      "needs_background": "light"
     }
    }
   ],
   "source": [
    "import matplotlib.pyplot as plt\n",
    "from random import randint\n",
    "%matplotlib inline\n",
    "plt.imshow(X_train[1000], cmap='gray')\n",
    "label_names[int(y_train[1000])]"
   ]
  },
  {
   "cell_type": "code",
   "execution_count": 22,
   "metadata": {},
   "outputs": [
    {
     "output_type": "stream",
     "name": "stdout",
     "text": [
      "(280000, 28, 28, 1)\n(70000, 28, 28, 1)\n"
     ]
    }
   ],
   "source": [
    "# Keras needs images whose last dimension is the number of channels, its 1 for black and white.\n",
    "from tensorflow.keras.backend import expand_dims\n",
    "\n",
    "X_train = expand_dims(X_train, axis=-1)\n",
    "X_test = expand_dims(X_test, axis=-1)\n",
    "\n",
    "print(X_train.shape)\n",
    "print(X_test.shape)"
   ]
  },
  {
   "cell_type": "code",
   "execution_count": 23,
   "metadata": {},
   "outputs": [],
   "source": [
    "#normalize the data by dividing it by 255 \n",
    "\n",
    "X_train /= 255 \n",
    "X_test /= 255"
   ]
  },
  {
   "cell_type": "code",
   "execution_count": 24,
   "metadata": {},
   "outputs": [],
   "source": [
    "num_labels = len(label_names)"
   ]
  },
  {
   "cell_type": "code",
   "execution_count": 25,
   "metadata": {},
   "outputs": [],
   "source": [
    "from tensorflow.keras.utils import to_categorical\n",
    "\n",
    "y_train_cat = to_categorical(y_train, num_labels)\n",
    "y_test_cat = to_categorical(y_test, num_labels)"
   ]
  },
  {
   "cell_type": "code",
   "execution_count": 26,
   "metadata": {},
   "outputs": [],
   "source": [
    "from tensorflow.keras import layers\n",
    "from tensorflow.keras import models"
   ]
  },
  {
   "cell_type": "code",
   "execution_count": 27,
   "metadata": {},
   "outputs": [],
   "source": [
    "def initialize_model():\n",
    "    model = models.Sequential()\n",
    "    model.add(layers.Convolution2D(16, (3, 3),\n",
    "                            padding='same',\n",
    "                            input_shape=X_train.shape[1:], activation='relu'))\n",
    "    model.add(layers.MaxPooling2D(pool_size=(2, 2)))\n",
    "    model.add(layers.Convolution2D(32, (3, 3), padding='same', activation= 'relu'))\n",
    "    model.add(layers.MaxPooling2D(pool_size=(2, 2)))\n",
    "    model.add(layers.Convolution2D(64, (3, 3), padding='same', activation= 'relu'))\n",
    "    model.add(layers.MaxPooling2D(pool_size =(2,2)))\n",
    "    model.add(layers.Flatten())\n",
    "    model.add(layers.Dense(128, activation='relu'))\n",
    "    model.add(layers.Dense(num_labels, activation='softmax')) \n",
    "    # Train model\n",
    "    model.compile(loss='categorical_crossentropy',\n",
    "                optimizer='adam',\n",
    "                metrics=['top_k_categorical_accuracy'])\n",
    "    return model"
   ]
  },
  {
   "cell_type": "code",
   "execution_count": 28,
   "metadata": {},
   "outputs": [],
   "source": [
    "model = initialize_model()"
   ]
  },
  {
   "cell_type": "code",
   "execution_count": 29,
   "metadata": {},
   "outputs": [
    {
     "output_type": "stream",
     "name": "stdout",
     "text": [
      "Model: \"sequential\"\n_________________________________________________________________\nLayer (type)                 Output Shape              Param #   \n=================================================================\nconv2d (Conv2D)              (None, 28, 28, 16)        160       \n_________________________________________________________________\nmax_pooling2d (MaxPooling2D) (None, 14, 14, 16)        0         \n_________________________________________________________________\nconv2d_1 (Conv2D)            (None, 14, 14, 32)        4640      \n_________________________________________________________________\nmax_pooling2d_1 (MaxPooling2 (None, 7, 7, 32)          0         \n_________________________________________________________________\nconv2d_2 (Conv2D)            (None, 7, 7, 64)          18496     \n_________________________________________________________________\nmax_pooling2d_2 (MaxPooling2 (None, 3, 3, 64)          0         \n_________________________________________________________________\nflatten (Flatten)            (None, 576)               0         \n_________________________________________________________________\ndense (Dense)                (None, 128)               73856     \n_________________________________________________________________\ndense_1 (Dense)              (None, 35)                4515      \n=================================================================\nTotal params: 101,667\nTrainable params: 101,667\nNon-trainable params: 0\n_________________________________________________________________\n"
     ]
    }
   ],
   "source": [
    "model.summary()"
   ]
  },
  {
   "cell_type": "code",
   "execution_count": 30,
   "metadata": {},
   "outputs": [
    {
     "output_type": "stream",
     "name": "stdout",
     "text": [
      "Epoch 1/5\n",
      "1532/1532 [==============================] - 214s 138ms/step - loss: 1.6776 - top_k_categorical_accuracy: 0.8066 - val_loss: 0.8586 - val_top_k_categorical_accuracy: 0.9404\n",
      "Epoch 2/5\n",
      "1532/1532 [==============================] - 213s 139ms/step - loss: 0.8121 - top_k_categorical_accuracy: 0.9449 - val_loss: 0.7546 - val_top_k_categorical_accuracy: 0.9498\n",
      "Epoch 3/5\n",
      "1532/1532 [==============================] - 216s 141ms/step - loss: 0.6931 - top_k_categorical_accuracy: 0.9544 - val_loss: 0.6814 - val_top_k_categorical_accuracy: 0.9555\n",
      "Epoch 4/5\n",
      "1532/1532 [==============================] - 223s 145ms/step - loss: 0.6233 - top_k_categorical_accuracy: 0.9603 - val_loss: 0.6488 - val_top_k_categorical_accuracy: 0.9579\n",
      "Epoch 5/5\n",
      "1532/1532 [==============================] - 226s 147ms/step - loss: 0.5798 - top_k_categorical_accuracy: 0.9644 - val_loss: 0.6332 - val_top_k_categorical_accuracy: 0.9589\n"
     ]
    },
    {
     "output_type": "execute_result",
     "data": {
      "text/plain": [
       "<tensorflow.python.keras.callbacks.History at 0x13fd840d0>"
      ]
     },
     "metadata": {},
     "execution_count": 30
    }
   ],
   "source": [
    "model = initialize_model()\n",
    "\n",
    "model.fit(X_train, y_train_cat,\n",
    "          batch_size = 128,\n",
    "          epochs=5,\n",
    "          validation_split=0.3,\n",
    "          verbose=1)"
   ]
  },
  {
   "cell_type": "code",
   "execution_count": 31,
   "metadata": {},
   "outputs": [
    {
     "output_type": "stream",
     "name": "stdout",
     "text": [
      "Test accuarcy: 95.79%\n"
     ]
    }
   ],
   "source": [
    "score = model.evaluate(X_test, y_test_cat, verbose=0)\n",
    "print('Test accuarcy: {:0.2f}%'.format(score[1] * 100))"
   ]
  },
  {
   "cell_type": "code",
   "execution_count": 172,
   "metadata": {},
   "outputs": [
    {
     "output_type": "stream",
     "name": "stdout",
     "text": [
      "INFO:tensorflow:Assets written to: model.save/assets\n"
     ]
    }
   ],
   "source": [
    "#import joblib\n",
    "#model.save('model.save')\n"
   ]
  },
  {
   "cell_type": "code",
   "execution_count": 173,
   "metadata": {},
   "outputs": [],
   "source": [
    "#from tensorflow.keras.models import load_model"
   ]
  },
  {
   "cell_type": "code",
   "execution_count": 175,
   "metadata": {},
   "outputs": [],
   "source": [
    "#model2 = load_model('model.save')"
   ]
  },
  {
   "cell_type": "code",
   "execution_count": 185,
   "metadata": {},
   "outputs": [],
   "source": [
    "#model3 = load_model('model.save')"
   ]
  },
  {
   "cell_type": "code",
   "execution_count": null,
   "metadata": {},
   "outputs": [],
   "source": []
  }
 ]
}