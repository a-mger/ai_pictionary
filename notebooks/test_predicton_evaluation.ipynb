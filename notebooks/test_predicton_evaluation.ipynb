{
 "metadata": {
  "language_info": {
   "codemirror_mode": {
    "name": "ipython",
    "version": 3
   },
   "file_extension": ".py",
   "mimetype": "text/x-python",
   "name": "python",
   "nbconvert_exporter": "python",
   "pygments_lexer": "ipython3",
   "version": "3.8.6"
  },
  "orig_nbformat": 2,
  "kernelspec": {
   "name": "python3",
   "display_name": "Python 3.8.6 64-bit ('lewagon': pyenv)"
  },
  "interpreter": {
   "hash": "31baf1c6f8fa143e305a1b7c7018cbc3f58107a8ef688e96e955fe7b0430e65b"
  }
 },
 "nbformat": 4,
 "nbformat_minor": 2,
 "cells": [
  {
   "cell_type": "code",
   "execution_count": 4,
   "metadata": {},
   "outputs": [
    {
     "output_type": "stream",
     "name": "stdout",
     "text": [
      "INFO:tensorflow:Assets written to: ../model/CNN_150/assets\n"
     ]
    }
   ],
   "source": [
    "from tensorflow import keras\n",
    "model = keras.models.load_model(\"gs://ai_pictionary_bucket/models/CNN_150\")\n",
    "model.save(\"../model/CNN_150\")"
   ]
  },
  {
   "cell_type": "code",
   "execution_count": 5,
   "metadata": {},
   "outputs": [],
   "source": [
    "import numpy as np\n",
    "import io\n",
    "from tensorflow.python.lib.io import file_io\n",
    "f = io.BytesIO(\n",
    "            file_io.read_file_to_string(\n",
    "                f'gs://ai_pictionary_bucket/data_150/labels.npy',\n",
    "                binary_mode=True))\n",
    "labels = np.load(f)\n",
    "np.save(\"../model/CNN_150/labels.npy\", labels)\n"
   ]
  },
  {
   "cell_type": "code",
   "execution_count": 23,
   "metadata": {},
   "outputs": [],
   "source": [
    "label = \"squirrel\""
   ]
  },
  {
   "cell_type": "code",
   "execution_count": 25,
   "metadata": {},
   "outputs": [
    {
     "output_type": "execute_result",
     "data": {
      "text/plain": [
       "<matplotlib.image.AxesImage at 0x7f020de943a0>"
      ]
     },
     "metadata": {},
     "execution_count": 25
    },
    {
     "output_type": "display_data",
     "data": {
      "text/plain": "<Figure size 432x288 with 1 Axes>",
      "image/svg+xml": "<?xml version=\"1.0\" encoding=\"utf-8\" standalone=\"no\"?>\n<!DOCTYPE svg PUBLIC \"-//W3C//DTD SVG 1.1//EN\"\n  \"http://www.w3.org/Graphics/SVG/1.1/DTD/svg11.dtd\">\n<svg height=\"248.518125pt\" version=\"1.1\" viewBox=\"0 0 251.565 248.518125\" width=\"251.565pt\" xmlns=\"http://www.w3.org/2000/svg\" xmlns:xlink=\"http://www.w3.org/1999/xlink\">\n <metadata>\n  <rdf:RDF xmlns:cc=\"http://creativecommons.org/ns#\" xmlns:dc=\"http://purl.org/dc/elements/1.1/\" xmlns:rdf=\"http://www.w3.org/1999/02/22-rdf-syntax-ns#\">\n   <cc:Work>\n    <dc:type rdf:resource=\"http://purl.org/dc/dcmitype/StillImage\"/>\n    <dc:date>2021-06-15T11:32:36.547045</dc:date>\n    <dc:format>image/svg+xml</dc:format>\n    <dc:creator>\n     <cc:Agent>\n      <dc:title>Matplotlib v3.4.1, https://matplotlib.org/</dc:title>\n     </cc:Agent>\n    </dc:creator>\n   </cc:Work>\n  </rdf:RDF>\n </metadata>\n <defs>\n  <style type=\"text/css\">*{stroke-linecap:butt;stroke-linejoin:round;}</style>\n </defs>\n <g id=\"figure_1\">\n  <g id=\"patch_1\">\n   <path d=\"M 0 248.518125 \nL 251.565 248.518125 \nL 251.565 0 \nL 0 0 \nz\n\" style=\"fill:none;\"/>\n  </g>\n  <g id=\"axes_1\">\n   <g id=\"patch_2\">\n    <path d=\"M 26.925 224.64 \nL 244.365 224.64 \nL 244.365 7.2 \nL 26.925 7.2 \nz\n\" style=\"fill:#ffffff;\"/>\n   </g>\n   <g clip-path=\"url(#p0b67b5cc98)\">\n    <image height=\"218\" id=\"image2c03d34adc\" transform=\"scale(1 -1)translate(0 -218)\" width=\"218\" x=\"26.925\" xlink:href=\"data:image/png;base64,\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\" y=\"-6.64\"/>\n   </g>\n   <g id=\"matplotlib.axis_1\">\n    <g id=\"xtick_1\">\n     <g id=\"line2d_1\">\n      <defs>\n       <path d=\"M 0 0 \nL 0 3.5 \n\" id=\"m1312b48dff\" style=\"stroke:#000000;stroke-width:0.8;\"/>\n      </defs>\n      <g>\n       <use style=\"stroke:#000000;stroke-width:0.8;\" x=\"30.807857\" xlink:href=\"#m1312b48dff\" y=\"224.64\"/>\n      </g>\n     </g>\n     <g id=\"text_1\">\n      <!-- 0 -->\n      <g transform=\"translate(27.626607 239.238437)scale(0.1 -0.1)\">\n       <defs>\n        <path d=\"M 2034 4250 \nQ 1547 4250 1301 3770 \nQ 1056 3291 1056 2328 \nQ 1056 1369 1301 889 \nQ 1547 409 2034 409 \nQ 2525 409 2770 889 \nQ 3016 1369 3016 2328 \nQ 3016 3291 2770 3770 \nQ 2525 4250 2034 4250 \nz\nM 2034 4750 \nQ 2819 4750 3233 4129 \nQ 3647 3509 3647 2328 \nQ 3647 1150 3233 529 \nQ 2819 -91 2034 -91 \nQ 1250 -91 836 529 \nQ 422 1150 422 2328 \nQ 422 3509 836 4129 \nQ 1250 4750 2034 4750 \nz\n\" id=\"DejaVuSans-30\" transform=\"scale(0.015625)\"/>\n       </defs>\n       <use xlink:href=\"#DejaVuSans-30\"/>\n      </g>\n     </g>\n    </g>\n    <g id=\"xtick_2\">\n     <g id=\"line2d_2\">\n      <g>\n       <use style=\"stroke:#000000;stroke-width:0.8;\" x=\"69.636429\" xlink:href=\"#m1312b48dff\" y=\"224.64\"/>\n      </g>\n     </g>\n     <g id=\"text_2\">\n      <!-- 5 -->\n      <g transform=\"translate(66.455179 239.238437)scale(0.1 -0.1)\">\n       <defs>\n        <path d=\"M 691 4666 \nL 3169 4666 \nL 3169 4134 \nL 1269 4134 \nL 1269 2991 \nQ 1406 3038 1543 3061 \nQ 1681 3084 1819 3084 \nQ 2600 3084 3056 2656 \nQ 3513 2228 3513 1497 \nQ 3513 744 3044 326 \nQ 2575 -91 1722 -91 \nQ 1428 -91 1123 -41 \nQ 819 9 494 109 \nL 494 744 \nQ 775 591 1075 516 \nQ 1375 441 1709 441 \nQ 2250 441 2565 725 \nQ 2881 1009 2881 1497 \nQ 2881 1984 2565 2268 \nQ 2250 2553 1709 2553 \nQ 1456 2553 1204 2497 \nQ 953 2441 691 2322 \nL 691 4666 \nz\n\" id=\"DejaVuSans-35\" transform=\"scale(0.015625)\"/>\n       </defs>\n       <use xlink:href=\"#DejaVuSans-35\"/>\n      </g>\n     </g>\n    </g>\n    <g id=\"xtick_3\">\n     <g id=\"line2d_3\">\n      <g>\n       <use style=\"stroke:#000000;stroke-width:0.8;\" x=\"108.465\" xlink:href=\"#m1312b48dff\" y=\"224.64\"/>\n      </g>\n     </g>\n     <g id=\"text_3\">\n      <!-- 10 -->\n      <g transform=\"translate(102.1025 239.238437)scale(0.1 -0.1)\">\n       <defs>\n        <path d=\"M 794 531 \nL 1825 531 \nL 1825 4091 \nL 703 3866 \nL 703 4441 \nL 1819 4666 \nL 2450 4666 \nL 2450 531 \nL 3481 531 \nL 3481 0 \nL 794 0 \nL 794 531 \nz\n\" id=\"DejaVuSans-31\" transform=\"scale(0.015625)\"/>\n       </defs>\n       <use xlink:href=\"#DejaVuSans-31\"/>\n       <use x=\"63.623047\" xlink:href=\"#DejaVuSans-30\"/>\n      </g>\n     </g>\n    </g>\n    <g id=\"xtick_4\">\n     <g id=\"line2d_4\">\n      <g>\n       <use style=\"stroke:#000000;stroke-width:0.8;\" x=\"147.293571\" xlink:href=\"#m1312b48dff\" y=\"224.64\"/>\n      </g>\n     </g>\n     <g id=\"text_4\">\n      <!-- 15 -->\n      <g transform=\"translate(140.931071 239.238437)scale(0.1 -0.1)\">\n       <use xlink:href=\"#DejaVuSans-31\"/>\n       <use x=\"63.623047\" xlink:href=\"#DejaVuSans-35\"/>\n      </g>\n     </g>\n    </g>\n    <g id=\"xtick_5\">\n     <g id=\"line2d_5\">\n      <g>\n       <use style=\"stroke:#000000;stroke-width:0.8;\" x=\"186.122143\" xlink:href=\"#m1312b48dff\" y=\"224.64\"/>\n      </g>\n     </g>\n     <g id=\"text_5\">\n      <!-- 20 -->\n      <g transform=\"translate(179.759643 239.238437)scale(0.1 -0.1)\">\n       <defs>\n        <path d=\"M 1228 531 \nL 3431 531 \nL 3431 0 \nL 469 0 \nL 469 531 \nQ 828 903 1448 1529 \nQ 2069 2156 2228 2338 \nQ 2531 2678 2651 2914 \nQ 2772 3150 2772 3378 \nQ 2772 3750 2511 3984 \nQ 2250 4219 1831 4219 \nQ 1534 4219 1204 4116 \nQ 875 4013 500 3803 \nL 500 4441 \nQ 881 4594 1212 4672 \nQ 1544 4750 1819 4750 \nQ 2544 4750 2975 4387 \nQ 3406 4025 3406 3419 \nQ 3406 3131 3298 2873 \nQ 3191 2616 2906 2266 \nQ 2828 2175 2409 1742 \nQ 1991 1309 1228 531 \nz\n\" id=\"DejaVuSans-32\" transform=\"scale(0.015625)\"/>\n       </defs>\n       <use xlink:href=\"#DejaVuSans-32\"/>\n       <use x=\"63.623047\" xlink:href=\"#DejaVuSans-30\"/>\n      </g>\n     </g>\n    </g>\n    <g id=\"xtick_6\">\n     <g id=\"line2d_6\">\n      <g>\n       <use style=\"stroke:#000000;stroke-width:0.8;\" x=\"224.950714\" xlink:href=\"#m1312b48dff\" y=\"224.64\"/>\n      </g>\n     </g>\n     <g id=\"text_6\">\n      <!-- 25 -->\n      <g transform=\"translate(218.588214 239.238437)scale(0.1 -0.1)\">\n       <use xlink:href=\"#DejaVuSans-32\"/>\n       <use x=\"63.623047\" xlink:href=\"#DejaVuSans-35\"/>\n      </g>\n     </g>\n    </g>\n   </g>\n   <g id=\"matplotlib.axis_2\">\n    <g id=\"ytick_1\">\n     <g id=\"line2d_7\">\n      <defs>\n       <path d=\"M 0 0 \nL -3.5 0 \n\" id=\"m28578cc984\" style=\"stroke:#000000;stroke-width:0.8;\"/>\n      </defs>\n      <g>\n       <use style=\"stroke:#000000;stroke-width:0.8;\" x=\"26.925\" xlink:href=\"#m28578cc984\" y=\"11.082857\"/>\n      </g>\n     </g>\n     <g id=\"text_7\">\n      <!-- 0 -->\n      <g transform=\"translate(13.5625 14.882076)scale(0.1 -0.1)\">\n       <use xlink:href=\"#DejaVuSans-30\"/>\n      </g>\n     </g>\n    </g>\n    <g id=\"ytick_2\">\n     <g id=\"line2d_8\">\n      <g>\n       <use style=\"stroke:#000000;stroke-width:0.8;\" x=\"26.925\" xlink:href=\"#m28578cc984\" y=\"49.911429\"/>\n      </g>\n     </g>\n     <g id=\"text_8\">\n      <!-- 5 -->\n      <g transform=\"translate(13.5625 53.710647)scale(0.1 -0.1)\">\n       <use xlink:href=\"#DejaVuSans-35\"/>\n      </g>\n     </g>\n    </g>\n    <g id=\"ytick_3\">\n     <g id=\"line2d_9\">\n      <g>\n       <use style=\"stroke:#000000;stroke-width:0.8;\" x=\"26.925\" xlink:href=\"#m28578cc984\" y=\"88.74\"/>\n      </g>\n     </g>\n     <g id=\"text_9\">\n      <!-- 10 -->\n      <g transform=\"translate(7.2 92.539219)scale(0.1 -0.1)\">\n       <use xlink:href=\"#DejaVuSans-31\"/>\n       <use x=\"63.623047\" xlink:href=\"#DejaVuSans-30\"/>\n      </g>\n     </g>\n    </g>\n    <g id=\"ytick_4\">\n     <g id=\"line2d_10\">\n      <g>\n       <use style=\"stroke:#000000;stroke-width:0.8;\" x=\"26.925\" xlink:href=\"#m28578cc984\" y=\"127.568571\"/>\n      </g>\n     </g>\n     <g id=\"text_10\">\n      <!-- 15 -->\n      <g transform=\"translate(7.2 131.36779)scale(0.1 -0.1)\">\n       <use xlink:href=\"#DejaVuSans-31\"/>\n       <use x=\"63.623047\" xlink:href=\"#DejaVuSans-35\"/>\n      </g>\n     </g>\n    </g>\n    <g id=\"ytick_5\">\n     <g id=\"line2d_11\">\n      <g>\n       <use style=\"stroke:#000000;stroke-width:0.8;\" x=\"26.925\" xlink:href=\"#m28578cc984\" y=\"166.397143\"/>\n      </g>\n     </g>\n     <g id=\"text_11\">\n      <!-- 20 -->\n      <g transform=\"translate(7.2 170.196362)scale(0.1 -0.1)\">\n       <use xlink:href=\"#DejaVuSans-32\"/>\n       <use x=\"63.623047\" xlink:href=\"#DejaVuSans-30\"/>\n      </g>\n     </g>\n    </g>\n    <g id=\"ytick_6\">\n     <g id=\"line2d_12\">\n      <g>\n       <use style=\"stroke:#000000;stroke-width:0.8;\" x=\"26.925\" xlink:href=\"#m28578cc984\" y=\"205.225714\"/>\n      </g>\n     </g>\n     <g id=\"text_12\">\n      <!-- 25 -->\n      <g transform=\"translate(7.2 209.024933)scale(0.1 -0.1)\">\n       <use xlink:href=\"#DejaVuSans-32\"/>\n       <use x=\"63.623047\" xlink:href=\"#DejaVuSans-35\"/>\n      </g>\n     </g>\n    </g>\n   </g>\n   <g id=\"patch_3\">\n    <path d=\"M 26.925 224.64 \nL 26.925 7.2 \n\" style=\"fill:none;stroke:#000000;stroke-linecap:square;stroke-linejoin:miter;stroke-width:0.8;\"/>\n   </g>\n   <g id=\"patch_4\">\n    <path d=\"M 244.365 224.64 \nL 244.365 7.2 \n\" style=\"fill:none;stroke:#000000;stroke-linecap:square;stroke-linejoin:miter;stroke-width:0.8;\"/>\n   </g>\n   <g id=\"patch_5\">\n    <path d=\"M 26.925 224.64 \nL 244.365 224.64 \n\" style=\"fill:none;stroke:#000000;stroke-linecap:square;stroke-linejoin:miter;stroke-width:0.8;\"/>\n   </g>\n   <g id=\"patch_6\">\n    <path d=\"M 26.925 7.2 \nL 244.365 7.2 \n\" style=\"fill:none;stroke:#000000;stroke-linecap:square;stroke-linejoin:miter;stroke-width:0.8;\"/>\n   </g>\n  </g>\n </g>\n <defs>\n  <clipPath id=\"p0b67b5cc98\">\n   <rect height=\"217.44\" width=\"217.44\" x=\"26.925\" y=\"7.2\"/>\n  </clipPath>\n </defs>\n</svg>\n",
      "image/png": "[encoded data removed]"
     },
     "metadata": {
      "needs_background": "light"
     }
    }
   ],
   "source": [
    "import numpy as np\n",
    "import io\n",
    "from random import sample\n",
    "import random\n",
    "from tensorflow.python.lib.io import file_io\n",
    "import matplotlib.pyplot as plt\n",
    "%matplotlib inline\n",
    "f = io.BytesIO(\n",
    "            file_io.read_file_to_string(\n",
    "                f'gs://quickdraw_dataset/full/numpy_bitmap/' + label +\".npy\",\n",
    "                binary_mode=True))\n",
    "sample_array = np.load(f)\n",
    "random_number = random.randint(0,len(sample_array))\n",
    "random_pic = sample_array[random_number,:].reshape(28,28)\n",
    "plt.imshow(random_pic, cmap='gray') "
   ]
  },
  {
   "cell_type": "code",
   "execution_count": 20,
   "metadata": {},
   "outputs": [],
   "source": []
  },
  {
   "cell_type": "code",
   "execution_count": 21,
   "metadata": {},
   "outputs": [
    {
     "output_type": "execute_result",
     "data": {
      "text/plain": [
       "<matplotlib.image.AxesImage at 0x7f020e0a17c0>"
      ]
     },
     "metadata": {},
     "execution_count": 21
    },
    {
     "output_type": "display_data",
     "data": {
      "text/plain": "<Figure size 432x288 with 1 Axes>",
      "image/svg+xml": "<?xml version=\"1.0\" encoding=\"utf-8\" standalone=\"no\"?>\n<!DOCTYPE svg PUBLIC \"-//W3C//DTD SVG 1.1//EN\"\n  \"http://www.w3.org/Graphics/SVG/1.1/DTD/svg11.dtd\">\n<svg height=\"248.518125pt\" version=\"1.1\" viewBox=\"0 0 251.565 248.518125\" width=\"251.565pt\" xmlns=\"http://www.w3.org/2000/svg\" xmlns:xlink=\"http://www.w3.org/1999/xlink\">\n <metadata>\n  <rdf:RDF xmlns:cc=\"http://creativecommons.org/ns#\" xmlns:dc=\"http://purl.org/dc/elements/1.1/\" xmlns:rdf=\"http://www.w3.org/1999/02/22-rdf-syntax-ns#\">\n   <cc:Work>\n    <dc:type rdf:resource=\"http://purl.org/dc/dcmitype/StillImage\"/>\n    <dc:date>2021-06-15T11:31:36.588740</dc:date>\n    <dc:format>image/svg+xml</dc:format>\n    <dc:creator>\n     <cc:Agent>\n      <dc:title>Matplotlib v3.4.1, https://matplotlib.org/</dc:title>\n     </cc:Agent>\n    </dc:creator>\n   </cc:Work>\n  </rdf:RDF>\n </metadata>\n <defs>\n  <style type=\"text/css\">*{stroke-linecap:butt;stroke-linejoin:round;}</style>\n </defs>\n <g id=\"figure_1\">\n  <g id=\"patch_1\">\n   <path d=\"M 0 248.518125 \nL 251.565 248.518125 \nL 251.565 0 \nL 0 0 \nz\n\" style=\"fill:none;\"/>\n  </g>\n  <g id=\"axes_1\">\n   <g id=\"patch_2\">\n    <path d=\"M 26.925 224.64 \nL 244.365 224.64 \nL 244.365 7.2 \nL 26.925 7.2 \nz\n\" style=\"fill:#ffffff;\"/>\n   </g>\n   <g clip-path=\"url(#pe494bda875)\">\n    <image height=\"218\" id=\"imagec8ed0c8a65\" transform=\"scale(1 -1)translate(0 -218)\" width=\"218\" x=\"26.925\" xlink:href=\"data:image/png;base64,\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\" y=\"-6.64\"/>\n   </g>\n   <g id=\"matplotlib.axis_1\">\n    <g id=\"xtick_1\">\n     <g id=\"line2d_1\">\n      <defs>\n       <path d=\"M 0 0 \nL 0 3.5 \n\" id=\"m81779b50de\" style=\"stroke:#000000;stroke-width:0.8;\"/>\n      </defs>\n      <g>\n       <use style=\"stroke:#000000;stroke-width:0.8;\" x=\"30.807857\" xlink:href=\"#m81779b50de\" y=\"224.64\"/>\n      </g>\n     </g>\n     <g id=\"text_1\">\n      <!-- 0 -->\n      <g transform=\"translate(27.626607 239.238437)scale(0.1 -0.1)\">\n       <defs>\n        <path d=\"M 2034 4250 \nQ 1547 4250 1301 3770 \nQ 1056 3291 1056 2328 \nQ 1056 1369 1301 889 \nQ 1547 409 2034 409 \nQ 2525 409 2770 889 \nQ 3016 1369 3016 2328 \nQ 3016 3291 2770 3770 \nQ 2525 4250 2034 4250 \nz\nM 2034 4750 \nQ 2819 4750 3233 4129 \nQ 3647 3509 3647 2328 \nQ 3647 1150 3233 529 \nQ 2819 -91 2034 -91 \nQ 1250 -91 836 529 \nQ 422 1150 422 2328 \nQ 422 3509 836 4129 \nQ 1250 4750 2034 4750 \nz\n\" id=\"DejaVuSans-30\" transform=\"scale(0.015625)\"/>\n       </defs>\n       <use xlink:href=\"#DejaVuSans-30\"/>\n      </g>\n     </g>\n    </g>\n    <g id=\"xtick_2\">\n     <g id=\"line2d_2\">\n      <g>\n       <use style=\"stroke:#000000;stroke-width:0.8;\" x=\"69.636429\" xlink:href=\"#m81779b50de\" y=\"224.64\"/>\n      </g>\n     </g>\n     <g id=\"text_2\">\n      <!-- 5 -->\n      <g transform=\"translate(66.455179 239.238437)scale(0.1 -0.1)\">\n       <defs>\n        <path d=\"M 691 4666 \nL 3169 4666 \nL 3169 4134 \nL 1269 4134 \nL 1269 2991 \nQ 1406 3038 1543 3061 \nQ 1681 3084 1819 3084 \nQ 2600 3084 3056 2656 \nQ 3513 2228 3513 1497 \nQ 3513 744 3044 326 \nQ 2575 -91 1722 -91 \nQ 1428 -91 1123 -41 \nQ 819 9 494 109 \nL 494 744 \nQ 775 591 1075 516 \nQ 1375 441 1709 441 \nQ 2250 441 2565 725 \nQ 2881 1009 2881 1497 \nQ 2881 1984 2565 2268 \nQ 2250 2553 1709 2553 \nQ 1456 2553 1204 2497 \nQ 953 2441 691 2322 \nL 691 4666 \nz\n\" id=\"DejaVuSans-35\" transform=\"scale(0.015625)\"/>\n       </defs>\n       <use xlink:href=\"#DejaVuSans-35\"/>\n      </g>\n     </g>\n    </g>\n    <g id=\"xtick_3\">\n     <g id=\"line2d_3\">\n      <g>\n       <use style=\"stroke:#000000;stroke-width:0.8;\" x=\"108.465\" xlink:href=\"#m81779b50de\" y=\"224.64\"/>\n      </g>\n     </g>\n     <g id=\"text_3\">\n      <!-- 10 -->\n      <g transform=\"translate(102.1025 239.238437)scale(0.1 -0.1)\">\n       <defs>\n        <path d=\"M 794 531 \nL 1825 531 \nL 1825 4091 \nL 703 3866 \nL 703 4441 \nL 1819 4666 \nL 2450 4666 \nL 2450 531 \nL 3481 531 \nL 3481 0 \nL 794 0 \nL 794 531 \nz\n\" id=\"DejaVuSans-31\" transform=\"scale(0.015625)\"/>\n       </defs>\n       <use xlink:href=\"#DejaVuSans-31\"/>\n       <use x=\"63.623047\" xlink:href=\"#DejaVuSans-30\"/>\n      </g>\n     </g>\n    </g>\n    <g id=\"xtick_4\">\n     <g id=\"line2d_4\">\n      <g>\n       <use style=\"stroke:#000000;stroke-width:0.8;\" x=\"147.293571\" xlink:href=\"#m81779b50de\" y=\"224.64\"/>\n      </g>\n     </g>\n     <g id=\"text_4\">\n      <!-- 15 -->\n      <g transform=\"translate(140.931071 239.238437)scale(0.1 -0.1)\">\n       <use xlink:href=\"#DejaVuSans-31\"/>\n       <use x=\"63.623047\" xlink:href=\"#DejaVuSans-35\"/>\n      </g>\n     </g>\n    </g>\n    <g id=\"xtick_5\">\n     <g id=\"line2d_5\">\n      <g>\n       <use style=\"stroke:#000000;stroke-width:0.8;\" x=\"186.122143\" xlink:href=\"#m81779b50de\" y=\"224.64\"/>\n      </g>\n     </g>\n     <g id=\"text_5\">\n      <!-- 20 -->\n      <g transform=\"translate(179.759643 239.238437)scale(0.1 -0.1)\">\n       <defs>\n        <path d=\"M 1228 531 \nL 3431 531 \nL 3431 0 \nL 469 0 \nL 469 531 \nQ 828 903 1448 1529 \nQ 2069 2156 2228 2338 \nQ 2531 2678 2651 2914 \nQ 2772 3150 2772 3378 \nQ 2772 3750 2511 3984 \nQ 2250 4219 1831 4219 \nQ 1534 4219 1204 4116 \nQ 875 4013 500 3803 \nL 500 4441 \nQ 881 4594 1212 4672 \nQ 1544 4750 1819 4750 \nQ 2544 4750 2975 4387 \nQ 3406 4025 3406 3419 \nQ 3406 3131 3298 2873 \nQ 3191 2616 2906 2266 \nQ 2828 2175 2409 1742 \nQ 1991 1309 1228 531 \nz\n\" id=\"DejaVuSans-32\" transform=\"scale(0.015625)\"/>\n       </defs>\n       <use xlink:href=\"#DejaVuSans-32\"/>\n       <use x=\"63.623047\" xlink:href=\"#DejaVuSans-30\"/>\n      </g>\n     </g>\n    </g>\n    <g id=\"xtick_6\">\n     <g id=\"line2d_6\">\n      <g>\n       <use style=\"stroke:#000000;stroke-width:0.8;\" x=\"224.950714\" xlink:href=\"#m81779b50de\" y=\"224.64\"/>\n      </g>\n     </g>\n     <g id=\"text_6\">\n      <!-- 25 -->\n      <g transform=\"translate(218.588214 239.238437)scale(0.1 -0.1)\">\n       <use xlink:href=\"#DejaVuSans-32\"/>\n       <use x=\"63.623047\" xlink:href=\"#DejaVuSans-35\"/>\n      </g>\n     </g>\n    </g>\n   </g>\n   <g id=\"matplotlib.axis_2\">\n    <g id=\"ytick_1\">\n     <g id=\"line2d_7\">\n      <defs>\n       <path d=\"M 0 0 \nL -3.5 0 \n\" id=\"m8044e38e26\" style=\"stroke:#000000;stroke-width:0.8;\"/>\n      </defs>\n      <g>\n       <use style=\"stroke:#000000;stroke-width:0.8;\" x=\"26.925\" xlink:href=\"#m8044e38e26\" y=\"11.082857\"/>\n      </g>\n     </g>\n     <g id=\"text_7\">\n      <!-- 0 -->\n      <g transform=\"translate(13.5625 14.882076)scale(0.1 -0.1)\">\n       <use xlink:href=\"#DejaVuSans-30\"/>\n      </g>\n     </g>\n    </g>\n    <g id=\"ytick_2\">\n     <g id=\"line2d_8\">\n      <g>\n       <use style=\"stroke:#000000;stroke-width:0.8;\" x=\"26.925\" xlink:href=\"#m8044e38e26\" y=\"49.911429\"/>\n      </g>\n     </g>\n     <g id=\"text_8\">\n      <!-- 5 -->\n      <g transform=\"translate(13.5625 53.710647)scale(0.1 -0.1)\">\n       <use xlink:href=\"#DejaVuSans-35\"/>\n      </g>\n     </g>\n    </g>\n    <g id=\"ytick_3\">\n     <g id=\"line2d_9\">\n      <g>\n       <use style=\"stroke:#000000;stroke-width:0.8;\" x=\"26.925\" xlink:href=\"#m8044e38e26\" y=\"88.74\"/>\n      </g>\n     </g>\n     <g id=\"text_9\">\n      <!-- 10 -->\n      <g transform=\"translate(7.2 92.539219)scale(0.1 -0.1)\">\n       <use xlink:href=\"#DejaVuSans-31\"/>\n       <use x=\"63.623047\" xlink:href=\"#DejaVuSans-30\"/>\n      </g>\n     </g>\n    </g>\n    <g id=\"ytick_4\">\n     <g id=\"line2d_10\">\n      <g>\n       <use style=\"stroke:#000000;stroke-width:0.8;\" x=\"26.925\" xlink:href=\"#m8044e38e26\" y=\"127.568571\"/>\n      </g>\n     </g>\n     <g id=\"text_10\">\n      <!-- 15 -->\n      <g transform=\"translate(7.2 131.36779)scale(0.1 -0.1)\">\n       <use xlink:href=\"#DejaVuSans-31\"/>\n       <use x=\"63.623047\" xlink:href=\"#DejaVuSans-35\"/>\n      </g>\n     </g>\n    </g>\n    <g id=\"ytick_5\">\n     <g id=\"line2d_11\">\n      <g>\n       <use style=\"stroke:#000000;stroke-width:0.8;\" x=\"26.925\" xlink:href=\"#m8044e38e26\" y=\"166.397143\"/>\n      </g>\n     </g>\n     <g id=\"text_11\">\n      <!-- 20 -->\n      <g transform=\"translate(7.2 170.196362)scale(0.1 -0.1)\">\n       <use xlink:href=\"#DejaVuSans-32\"/>\n       <use x=\"63.623047\" xlink:href=\"#DejaVuSans-30\"/>\n      </g>\n     </g>\n    </g>\n    <g id=\"ytick_6\">\n     <g id=\"line2d_12\">\n      <g>\n       <use style=\"stroke:#000000;stroke-width:0.8;\" x=\"26.925\" xlink:href=\"#m8044e38e26\" y=\"205.225714\"/>\n      </g>\n     </g>\n     <g id=\"text_12\">\n      <!-- 25 -->\n      <g transform=\"translate(7.2 209.024933)scale(0.1 -0.1)\">\n       <use xlink:href=\"#DejaVuSans-32\"/>\n       <use x=\"63.623047\" xlink:href=\"#DejaVuSans-35\"/>\n      </g>\n     </g>\n    </g>\n   </g>\n   <g id=\"patch_3\">\n    <path d=\"M 26.925 224.64 \nL 26.925 7.2 \n\" style=\"fill:none;stroke:#000000;stroke-linecap:square;stroke-linejoin:miter;stroke-width:0.8;\"/>\n   </g>\n   <g id=\"patch_4\">\n    <path d=\"M 244.365 224.64 \nL 244.365 7.2 \n\" style=\"fill:none;stroke:#000000;stroke-linecap:square;stroke-linejoin:miter;stroke-width:0.8;\"/>\n   </g>\n   <g id=\"patch_5\">\n    <path d=\"M 26.925 224.64 \nL 244.365 224.64 \n\" style=\"fill:none;stroke:#000000;stroke-linecap:square;stroke-linejoin:miter;stroke-width:0.8;\"/>\n   </g>\n   <g id=\"patch_6\">\n    <path d=\"M 26.925 7.2 \nL 244.365 7.2 \n\" style=\"fill:none;stroke:#000000;stroke-linecap:square;stroke-linejoin:miter;stroke-width:0.8;\"/>\n   </g>\n  </g>\n </g>\n <defs>\n  <clipPath id=\"pe494bda875\">\n   <rect height=\"217.44\" width=\"217.44\" x=\"26.925\" y=\"7.2\"/>\n  </clipPath>\n </defs>\n</svg>\n",
      "image/png": "[encoded data removed]"
     },
     "metadata": {
      "needs_background": "light"
     }
    }
   ],
   "source": [
    "\n"
   ]
  },
  {
   "cell_type": "code",
   "execution_count": null,
   "metadata": {},
   "outputs": [],
   "source": []
  },
  {
   "cell_type": "code",
   "execution_count": null,
   "metadata": {},
   "outputs": [],
   "source": []
  },
  {
   "cell_type": "code",
   "execution_count": 12,
   "metadata": {},
   "outputs": [],
   "source": [
    "from tensorflow import keras\n",
    "model = keras.models.load_model(\"../model/CNN_LARGE\")"
   ]
  },
  {
   "cell_type": "code",
   "execution_count": null,
   "metadata": {},
   "outputs": [],
   "source": [
    "from tensorflow.keras.utils import to_categorical"
   ]
  },
  {
   "cell_type": "code",
   "execution_count": null,
   "metadata": {},
   "outputs": [],
   "source": [
    "X_pred = np.array(X_pred).reshape((1, 28, 28, 1))"
   ]
  },
  {
   "cell_type": "code",
   "execution_count": null,
   "metadata": {},
   "outputs": [],
   "source": [
    "X_pred = X_pred/255"
   ]
  },
  {
   "cell_type": "code",
   "execution_count": null,
   "metadata": {},
   "outputs": [],
   "source": [
    "model.predict(X_pred)"
   ]
  },
  {
   "cell_type": "code",
   "execution_count": null,
   "metadata": {},
   "outputs": [],
   "source": [
    "X_test = np.load(\"X_test.npy\")\n",
    "y_test = np.load(\"y_test.npy\")\n",
    "labels = np.load(\"model/labels.npy\")"
   ]
  },
  {
   "cell_type": "code",
   "execution_count": null,
   "metadata": {},
   "outputs": [],
   "source": [
    "y_test_cat = to_categorical(y_test, len(labels))"
   ]
  },
  {
   "cell_type": "code",
   "execution_count": null,
   "metadata": {},
   "outputs": [],
   "source": [
    "model.evaluate(X_test,y_test_cat,verbose = 1)"
   ]
  },
  {
   "cell_type": "code",
   "execution_count": null,
   "metadata": {},
   "outputs": [],
   "source": [
    "test = X_test[0].reshape(1,28,28,1)"
   ]
  },
  {
   "cell_type": "code",
   "execution_count": null,
   "metadata": {},
   "outputs": [],
   "source": [
    "model.predict(test)"
   ]
  },
  {
   "cell_type": "code",
   "execution_count": null,
   "metadata": {},
   "outputs": [],
   "source": [
    "y_test[0]"
   ]
  },
  {
   "cell_type": "code",
   "execution_count": null,
   "metadata": {},
   "outputs": [],
   "source": []
  }
 ]
}